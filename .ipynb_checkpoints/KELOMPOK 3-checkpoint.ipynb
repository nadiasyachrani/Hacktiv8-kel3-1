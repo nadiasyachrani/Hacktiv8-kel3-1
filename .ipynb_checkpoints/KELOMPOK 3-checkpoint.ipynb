{
 "cells": [
  {
   "cell_type": "markdown",
   "id": "75ebeb99-1e50-474b-992f-5b8239a359bd",
   "metadata": {},
   "source": [
    "Python for Data Science - MSIB Batch 4\n",
    "Kelompok 3\n",
    "1. M. Haikal Febrian\n",
    "2. Naurah Nadzifah Azizi\n",
    "3. Nadia Syachrani\n",
    "4. Muhammad Randy\n",
    "\n",
    "PYTN-KS11"
   ]
  },
  {
   "cell_type": "code",
   "execution_count": null,
   "id": "49b1306f-fe6d-4aec-b0f8-9a0d61809aaf",
   "metadata": {},
   "outputs": [],
   "source": []
  }
 ],
 "metadata": {
  "kernelspec": {
   "display_name": "Python 3 (ipykernel)",
   "language": "python",
   "name": "python3"
  },
  "language_info": {
   "codemirror_mode": {
    "name": "ipython",
    "version": 3
   },
   "file_extension": ".py",
   "mimetype": "text/x-python",
   "name": "python",
   "nbconvert_exporter": "python",
   "pygments_lexer": "ipython3",
   "version": "3.9.13"
  }
 },
 "nbformat": 4,
 "nbformat_minor": 5
}
