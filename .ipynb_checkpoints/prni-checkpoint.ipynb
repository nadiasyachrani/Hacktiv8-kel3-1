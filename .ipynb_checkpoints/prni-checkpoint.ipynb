{
  "cells": [
    {
      "cell_type": "markdown",
      "metadata": {
        "id": "pHwpa8aiPYfC"
      },
      "source": [
        "Python for Data Science - MSIB Batch 4\n",
        "Kelompok 3\n",
        "1. M. Haikal Febrian\n",
        "2. Naurah Nadzifah Azizi\n",
        "3. Nadia Syachrani\n",
        "4. Muhammad Randy\n",
        "\n",
        "PYTN-KS11"
      ]
    },
    {
      "cell_type": "markdown",
      "metadata": {
        "id": "5EU78ej4Pkz_"
      },
      "source": [
        "**VISUALIZING DATA (OPTIONAL)**\n",
        "\n",
        "Selain menghitung kuantitas numerik seperti mean(rata- rata), median, atau varians, kita juga dapat menggunakan metode visual untuk menyajikan, mendeskripsikan, dan meringkas data dengan menggunakan grafik berikut:\n",
        "1. Box Plot\n",
        "2. Histogram\n",
        "3. Pie Charts\n",
        "4. Bar Charts\n",
        "5. X-Y Plots\n",
        "6. Heatmaps"
      ]
    },
    {
      "cell_type": "code",
      "execution_count": null,
      "metadata": {
        "colab": {
          "background_save": true
        },
        "id": "6nT7jGMThuOw"
      },
      "outputs": [],
      "source": [
        "# Import Library\n",
        "import math\n",
        "from IPython.display import Math, Latex\n",
        "from IPython.core.display import Image\n",
        "import statistics\n",
        "\n",
        "import pandas as pd\n",
        "import numpy as np\n",
        "import scipy.stats\n",
        "import random\n",
        "\n",
        "import warnings\n",
        "warnings.filterwarnings('ignore')"
      ]
    },
    {
      "cell_type": "code",
      "execution_count": null,
      "metadata": {
        "colab": {
          "background_save": true
        },
        "id": "M21LAHkCimPq",
        "outputId": "8dd7b6cc-e5bb-49e0-fc30-1d0feadbdb13"
      },
      "outputs": [
        {
          "ename": "FileNotFoundError",
          "evalue": "ignored",
          "output_type": "error",
          "traceback": [
            "\u001b[0;31m---------------------------------------------------------------------------\u001b[0m",
            "\u001b[0;31mFileNotFoundError\u001b[0m                         Traceback (most recent call last)",
            "\u001b[0;32m<ipython-input-3-eb2e64508b37>\u001b[0m in \u001b[0;36m<cell line: 3>\u001b[0;34m()\u001b[0m\n\u001b[1;32m      1\u001b[0m \u001b[0;31m# import dataset\u001b[0m\u001b[0;34m\u001b[0m\u001b[0;34m\u001b[0m\u001b[0m\n\u001b[1;32m      2\u001b[0m \u001b[0mpd\u001b[0m\u001b[0;34m.\u001b[0m\u001b[0mset_option\u001b[0m\u001b[0;34m(\u001b[0m\u001b[0;34m\"display.max.columns\"\u001b[0m\u001b[0;34m,\u001b[0m\u001b[0;32mNone\u001b[0m\u001b[0;34m)\u001b[0m\u001b[0;34m\u001b[0m\u001b[0;34m\u001b[0m\u001b[0m\n\u001b[0;32m----> 3\u001b[0;31m \u001b[0mdf\u001b[0m\u001b[0;34m=\u001b[0m \u001b[0mpd\u001b[0m\u001b[0;34m.\u001b[0m\u001b[0mread_csv\u001b[0m\u001b[0;34m(\u001b[0m\u001b[0;34m'NHANES.csv'\u001b[0m\u001b[0;34m)\u001b[0m\u001b[0;34m\u001b[0m\u001b[0;34m\u001b[0m\u001b[0m\n\u001b[0m",
            "\u001b[0;32m/usr/local/lib/python3.9/dist-packages/pandas/util/_decorators.py\u001b[0m in \u001b[0;36mwrapper\u001b[0;34m(*args, **kwargs)\u001b[0m\n\u001b[1;32m    309\u001b[0m                     \u001b[0mstacklevel\u001b[0m\u001b[0;34m=\u001b[0m\u001b[0mstacklevel\u001b[0m\u001b[0;34m,\u001b[0m\u001b[0;34m\u001b[0m\u001b[0;34m\u001b[0m\u001b[0m\n\u001b[1;32m    310\u001b[0m                 )\n\u001b[0;32m--> 311\u001b[0;31m             \u001b[0;32mreturn\u001b[0m \u001b[0mfunc\u001b[0m\u001b[0;34m(\u001b[0m\u001b[0;34m*\u001b[0m\u001b[0margs\u001b[0m\u001b[0;34m,\u001b[0m \u001b[0;34m**\u001b[0m\u001b[0mkwargs\u001b[0m\u001b[0;34m)\u001b[0m\u001b[0;34m\u001b[0m\u001b[0;34m\u001b[0m\u001b[0m\n\u001b[0m\u001b[1;32m    312\u001b[0m \u001b[0;34m\u001b[0m\u001b[0m\n\u001b[1;32m    313\u001b[0m         \u001b[0;32mreturn\u001b[0m \u001b[0mwrapper\u001b[0m\u001b[0;34m\u001b[0m\u001b[0;34m\u001b[0m\u001b[0m\n",
            "\u001b[0;32m/usr/local/lib/python3.9/dist-packages/pandas/io/parsers/readers.py\u001b[0m in \u001b[0;36mread_csv\u001b[0;34m(filepath_or_buffer, sep, delimiter, header, names, index_col, usecols, squeeze, prefix, mangle_dupe_cols, dtype, engine, converters, true_values, false_values, skipinitialspace, skiprows, skipfooter, nrows, na_values, keep_default_na, na_filter, verbose, skip_blank_lines, parse_dates, infer_datetime_format, keep_date_col, date_parser, dayfirst, cache_dates, iterator, chunksize, compression, thousands, decimal, lineterminator, quotechar, quoting, doublequote, escapechar, comment, encoding, encoding_errors, dialect, error_bad_lines, warn_bad_lines, on_bad_lines, delim_whitespace, low_memory, memory_map, float_precision, storage_options)\u001b[0m\n\u001b[1;32m    676\u001b[0m     \u001b[0mkwds\u001b[0m\u001b[0;34m.\u001b[0m\u001b[0mupdate\u001b[0m\u001b[0;34m(\u001b[0m\u001b[0mkwds_defaults\u001b[0m\u001b[0;34m)\u001b[0m\u001b[0;34m\u001b[0m\u001b[0;34m\u001b[0m\u001b[0m\n\u001b[1;32m    677\u001b[0m \u001b[0;34m\u001b[0m\u001b[0m\n\u001b[0;32m--> 678\u001b[0;31m     \u001b[0;32mreturn\u001b[0m \u001b[0m_read\u001b[0m\u001b[0;34m(\u001b[0m\u001b[0mfilepath_or_buffer\u001b[0m\u001b[0;34m,\u001b[0m \u001b[0mkwds\u001b[0m\u001b[0;34m)\u001b[0m\u001b[0;34m\u001b[0m\u001b[0;34m\u001b[0m\u001b[0m\n\u001b[0m\u001b[1;32m    679\u001b[0m \u001b[0;34m\u001b[0m\u001b[0m\n\u001b[1;32m    680\u001b[0m \u001b[0;34m\u001b[0m\u001b[0m\n",
            "\u001b[0;32m/usr/local/lib/python3.9/dist-packages/pandas/io/parsers/readers.py\u001b[0m in \u001b[0;36m_read\u001b[0;34m(filepath_or_buffer, kwds)\u001b[0m\n\u001b[1;32m    573\u001b[0m \u001b[0;34m\u001b[0m\u001b[0m\n\u001b[1;32m    574\u001b[0m     \u001b[0;31m# Create the parser.\u001b[0m\u001b[0;34m\u001b[0m\u001b[0;34m\u001b[0m\u001b[0m\n\u001b[0;32m--> 575\u001b[0;31m     \u001b[0mparser\u001b[0m \u001b[0;34m=\u001b[0m \u001b[0mTextFileReader\u001b[0m\u001b[0;34m(\u001b[0m\u001b[0mfilepath_or_buffer\u001b[0m\u001b[0;34m,\u001b[0m \u001b[0;34m**\u001b[0m\u001b[0mkwds\u001b[0m\u001b[0;34m)\u001b[0m\u001b[0;34m\u001b[0m\u001b[0;34m\u001b[0m\u001b[0m\n\u001b[0m\u001b[1;32m    576\u001b[0m \u001b[0;34m\u001b[0m\u001b[0m\n\u001b[1;32m    577\u001b[0m     \u001b[0;32mif\u001b[0m \u001b[0mchunksize\u001b[0m \u001b[0;32mor\u001b[0m \u001b[0miterator\u001b[0m\u001b[0;34m:\u001b[0m\u001b[0;34m\u001b[0m\u001b[0;34m\u001b[0m\u001b[0m\n",
            "\u001b[0;32m/usr/local/lib/python3.9/dist-packages/pandas/io/parsers/readers.py\u001b[0m in \u001b[0;36m__init__\u001b[0;34m(self, f, engine, **kwds)\u001b[0m\n\u001b[1;32m    930\u001b[0m \u001b[0;34m\u001b[0m\u001b[0m\n\u001b[1;32m    931\u001b[0m         \u001b[0mself\u001b[0m\u001b[0;34m.\u001b[0m\u001b[0mhandles\u001b[0m\u001b[0;34m:\u001b[0m \u001b[0mIOHandles\u001b[0m \u001b[0;34m|\u001b[0m \u001b[0;32mNone\u001b[0m \u001b[0;34m=\u001b[0m \u001b[0;32mNone\u001b[0m\u001b[0;34m\u001b[0m\u001b[0;34m\u001b[0m\u001b[0m\n\u001b[0;32m--> 932\u001b[0;31m         \u001b[0mself\u001b[0m\u001b[0;34m.\u001b[0m\u001b[0m_engine\u001b[0m \u001b[0;34m=\u001b[0m \u001b[0mself\u001b[0m\u001b[0;34m.\u001b[0m\u001b[0m_make_engine\u001b[0m\u001b[0;34m(\u001b[0m\u001b[0mf\u001b[0m\u001b[0;34m,\u001b[0m \u001b[0mself\u001b[0m\u001b[0;34m.\u001b[0m\u001b[0mengine\u001b[0m\u001b[0;34m)\u001b[0m\u001b[0;34m\u001b[0m\u001b[0;34m\u001b[0m\u001b[0m\n\u001b[0m\u001b[1;32m    933\u001b[0m \u001b[0;34m\u001b[0m\u001b[0m\n\u001b[1;32m    934\u001b[0m     \u001b[0;32mdef\u001b[0m \u001b[0mclose\u001b[0m\u001b[0;34m(\u001b[0m\u001b[0mself\u001b[0m\u001b[0;34m)\u001b[0m\u001b[0;34m:\u001b[0m\u001b[0;34m\u001b[0m\u001b[0;34m\u001b[0m\u001b[0m\n",
            "\u001b[0;32m/usr/local/lib/python3.9/dist-packages/pandas/io/parsers/readers.py\u001b[0m in \u001b[0;36m_make_engine\u001b[0;34m(self, f, engine)\u001b[0m\n\u001b[1;32m   1214\u001b[0m             \u001b[0;31m# \"Union[str, PathLike[str], ReadCsvBuffer[bytes], ReadCsvBuffer[str]]\"\u001b[0m\u001b[0;34m\u001b[0m\u001b[0;34m\u001b[0m\u001b[0m\n\u001b[1;32m   1215\u001b[0m             \u001b[0;31m# , \"str\", \"bool\", \"Any\", \"Any\", \"Any\", \"Any\", \"Any\"\u001b[0m\u001b[0;34m\u001b[0m\u001b[0;34m\u001b[0m\u001b[0m\n\u001b[0;32m-> 1216\u001b[0;31m             self.handles = get_handle(  # type: ignore[call-overload]\n\u001b[0m\u001b[1;32m   1217\u001b[0m                 \u001b[0mf\u001b[0m\u001b[0;34m,\u001b[0m\u001b[0;34m\u001b[0m\u001b[0;34m\u001b[0m\u001b[0m\n\u001b[1;32m   1218\u001b[0m                 \u001b[0mmode\u001b[0m\u001b[0;34m,\u001b[0m\u001b[0;34m\u001b[0m\u001b[0;34m\u001b[0m\u001b[0m\n",
            "\u001b[0;32m/usr/local/lib/python3.9/dist-packages/pandas/io/common.py\u001b[0m in \u001b[0;36mget_handle\u001b[0;34m(path_or_buf, mode, encoding, compression, memory_map, is_text, errors, storage_options)\u001b[0m\n\u001b[1;32m    784\u001b[0m         \u001b[0;32mif\u001b[0m \u001b[0mioargs\u001b[0m\u001b[0;34m.\u001b[0m\u001b[0mencoding\u001b[0m \u001b[0;32mand\u001b[0m \u001b[0;34m\"b\"\u001b[0m \u001b[0;32mnot\u001b[0m \u001b[0;32min\u001b[0m \u001b[0mioargs\u001b[0m\u001b[0;34m.\u001b[0m\u001b[0mmode\u001b[0m\u001b[0;34m:\u001b[0m\u001b[0;34m\u001b[0m\u001b[0;34m\u001b[0m\u001b[0m\n\u001b[1;32m    785\u001b[0m             \u001b[0;31m# Encoding\u001b[0m\u001b[0;34m\u001b[0m\u001b[0;34m\u001b[0m\u001b[0m\n\u001b[0;32m--> 786\u001b[0;31m             handle = open(\n\u001b[0m\u001b[1;32m    787\u001b[0m                 \u001b[0mhandle\u001b[0m\u001b[0;34m,\u001b[0m\u001b[0;34m\u001b[0m\u001b[0;34m\u001b[0m\u001b[0m\n\u001b[1;32m    788\u001b[0m                 \u001b[0mioargs\u001b[0m\u001b[0;34m.\u001b[0m\u001b[0mmode\u001b[0m\u001b[0;34m,\u001b[0m\u001b[0;34m\u001b[0m\u001b[0;34m\u001b[0m\u001b[0m\n",
            "\u001b[0;31mFileNotFoundError\u001b[0m: [Errno 2] No such file or directory: 'NHANES.csv'"
          ]
        }
      ],
      "source": [
        "# import dataset\n",
        "pd.set_option(\"display.max.columns\",None)\n",
        "df= pd.read_csv('NHANES.csv')"
      ]
    },
    {
      "cell_type": "code",
      "execution_count": null,
      "metadata": {
        "colab": {
          "background_save": true
        },
        "id": "sQ6HfOxhi6QF"
      },
      "outputs": [],
      "source": [
        "# view top 5 rows of data\n",
        "df.head()"
      ]
    },
    {
      "cell_type": "code",
      "execution_count": null,
      "metadata": {
        "colab": {
          "background_save": true
        },
        "id": "1T3eJv85jIaO"
      },
      "outputs": [],
      "source": [
        "# View all columns and their data types\n",
        "df.info()"
      ]
    },
    {
      "cell_type": "code",
      "execution_count": null,
      "metadata": {
        "colab": {
          "background_save": true
        },
        "id": "EaM1laSmjb3r"
      },
      "outputs": [],
      "source": [
        "#View descriptive statistics of each column with integer/float data type\n",
        "df.describe()"
      ]
    },
    {
      "cell_type": "code",
      "execution_count": null,
      "metadata": {
        "colab": {
          "background_save": true
        },
        "id": "Sje1NGA6j4fy"
      },
      "outputs": [],
      "source": [
        "# mengganti nilai pada kolom \"SMQ020\" di dalam sebuah DataFrame dengan nilai baru\n",
        "df[\"SMQ020x\"] = df.SMQ020.replace({1: \"Yes\", 2: \"No\", 7: np.nan, 9: np.nan},inplace=True)"
      ]
    },
    {
      "cell_type": "code",
      "execution_count": null,
      "metadata": {
        "colab": {
          "background_save": true
        },
        "id": "solSkB1XkDoa"
      },
      "outputs": [],
      "source": [
        "# mengganti nilai pada kolom \"RIAGENDRx\" di dalam sebuah DataFrame dengan nilai baru\n",
        "df[\"RIAGENDRx\"] = df.RIAGENDR.replace({1: \"Male\", 2: \"Female\"},inplace=True)"
      ]
    },
    {
      "cell_type": "code",
      "execution_count": null,
      "metadata": {
        "colab": {
          "background_save": true
        },
        "id": "LaCOIGyTkOly"
      },
      "outputs": [],
      "source": [
        "# menghapus missing value pada kolom \"SMQ020x\" dan \"RIAGENDRx\"\n",
        "dx=df[[\"SMQ020x\", \"RIAGENDRx\"]].dropna()"
      ]
    },
    {
      "cell_type": "code",
      "execution_count": null,
      "metadata": {
        "colab": {
          "background_save": true
        },
        "id": "2cgwbmiokZl4"
      },
      "outputs": [],
      "source": [
        "# menghitung frekuensi jumlah pengamatan pada kombinasi kategori antara dua kolom, yaitu \"SMQ020x\" dan \"RIAGENDRx\"\n",
        "pd.crosstab(dx.SMQ020x, dx.RIAGENDRx)"
      ]
    },
    {
      "cell_type": "code",
      "execution_count": null,
      "metadata": {
        "colab": {
          "background_save": true
        },
        "id": "E7EZBwMCkcUb"
      },
      "outputs": [],
      "source": [
        "# melihat 5 baris teratas\n",
        "df.head()"
      ]
    },
    {
      "cell_type": "code",
      "execution_count": null,
      "metadata": {
        "colab": {
          "background_save": true
        },
        "id": "LxJyY9dBlnKm"
      },
      "outputs": [],
      "source": [
        "# melihat kolom dan tipe data\n",
        "df.info()"
      ]
    },
    {
      "cell_type": "markdown",
      "metadata": {
        "id": "mt9bWRYWSEhm"
      },
      "source": [
        "## **BOX PLOT**\n",
        "\n",
        "Box plot atau diagram kotak merupakan salah satu jenis visualisasi data statistik yang digunakan untuk menampilkan distribusi data secara grafis. Box plot terdiri dari :\n",
        "* Sebuah kotak yang melambangkan kuartil data\n",
        "* Garis yang melambangkan rentang antara nilai minimum dan maksimum data\n",
        "* Garis median yang menunjukkan nilai tengah data\n",
        "* Dapat mengandung outlier, yaitu nilai yang jauh dari rentang data, yang ditunjukkan oleh titik-titik di luar garis rentang data\n",
        "\n",
        "Box plot digunakan untuk membandingkan distribusi data antara kelompok yang berbeda dalam satu diagram yang sama."
      ]
    },
    {
      "cell_type": "code",
      "execution_count": null,
      "metadata": {
        "colab": {
          "background_save": true
        },
        "id": "YxWuzDyGmHtq"
      },
      "outputs": [],
      "source": [
        "# create box plot\n",
        "import matplotlib.pyplot as plt\n",
        "plt.boxplot([df['RIDAGEYR'], df['BPXSY1']])\n",
        "plt.xticks([1, 2], ['Age', 'Systolic BP'])\n",
        "plt.show()"
      ]
    },
    {
      "cell_type": "markdown",
      "metadata": {
        "id": "xT1Yj2HzSwX3"
      },
      "source": [
        "Analisis"
      ]
    },
    {
      "cell_type": "markdown",
      "metadata": {
        "id": "5hFoPuSTR2kw"
      },
      "source": [
        "## **HISTOGRAM**\n",
        "* untuk menampilkan distribusi frekuensi dari sebuah data numerik\n",
        "* mengelompokkan data ke dalam interval-interval (bins) dan menampilkan jumlah data pada masing-masing interval tersebut\n",
        "* sumbu-x yang menunjukkan interval-interval dari data\n",
        "* sumbu-y menunjukkan frekuensi atau jumlah data pada interval tersebut\n",
        "* kita dapat melihat apakah data simetris atau tidak, serta apakah data mengalami skewness atau tidak "
      ]
    },
    {
      "cell_type": "code",
      "execution_count": null,
      "metadata": {
        "colab": {
          "background_save": true
        },
        "id": "fliM-SmuqUv3"
      },
      "outputs": [],
      "source": [
        "# create histogram\n",
        "plt.hist(df['RIDAGEYR'], bins=20)\n",
        "plt.xlabel('Age')\n",
        "plt.ylabel('Frequency')\n",
        "plt.title('Age Distribution')\n",
        "plt.show()"
      ]
    },
    {
      "cell_type": "code",
      "execution_count": null,
      "metadata": {
        "colab": {
          "background_save": true
        },
        "id": "J_iL_q3RstiS"
      },
      "outputs": [],
      "source": [
        "plt.hist(df['BPXSY1'], bins=20)\n",
        "plt.title('Distribution of Systolic Blood Pressure')\n",
        "plt.xlabel('Systolic Blood Pressure (mmHg)')\n",
        "plt.ylabel('Frequency')\n",
        "plt.show()"
      ]
    },
    {
      "cell_type": "markdown",
      "metadata": {
        "id": "vhu-6bbDSriE"
      },
      "source": [
        "Analisis"
      ]
    },
    {
      "cell_type": "markdown",
      "metadata": {
        "id": "0w2qRiGTSryC"
      },
      "source": [
        "## **PIE CHARTS**\n",
        "* untuk menampilkan proporsi atau persentase dari beberapa kategori yang berbeda \n",
        "* digambarkan sebagai lingkaran yang terbagi menjadi beberapa bagian atau \"iris\", yang masing-masing menggambarkan proporsi atau persentase dari kategori tertentu\n",
        "* untuk memvisualisasikan data kualitatif atau kategorikal\n",
        "* dapat membantu dalam membandingkan proporsi dari beberapa kategori yang berbeda. "
      ]
    },
    {
      "cell_type": "code",
      "execution_count": null,
      "metadata": {
        "colab": {
          "background_save": true
        },
        "id": "zH8SioLQrUnX"
      },
      "outputs": [],
      "source": [
        "# create pie chart\n",
        "gender_counts = df['RIAGENDR'].value_counts()\n",
        "labels = ['Male', 'Female']\n",
        "plt.pie(gender_counts, labels=labels, autopct='%1.1f%%')\n",
        "plt.title('Gender Distribution')\n",
        "plt.show()"
      ]
    },
    {
      "cell_type": "markdown",
      "metadata": {
        "id": "hsg7YrlJwgBe"
      },
      "source": [
        "Dari pie chart diatas, dapat dilihat bahwa persentase gender terbesar yaitu Male sebesar 51.9%, kemudian Female sebesar 48.1%"
      ]
    },
    {
      "cell_type": "code",
      "execution_count": null,
      "metadata": {
        "colab": {
          "background_save": true
        },
        "id": "8i6WdyHxsKl8"
      },
      "outputs": [],
      "source": [
        "df.info()"
      ]
    },
    {
      "cell_type": "code",
      "execution_count": null,
      "metadata": {
        "colab": {
          "background_save": true
        },
        "id": "1rHTsIaWuWLe"
      },
      "outputs": [],
      "source": [
        "df[\"Race\"] = df.RIDRETH1.replace({1: \"Mexican American\", 2: \"Other Hispanic\", 3: \"Non-Hispanic White\", 4: \"Non-Hispanic Black\", 5: \"Other Race - Including Multi-Racial\"}, inplace=True)"
      ]
    },
    {
      "cell_type": "code",
      "execution_count": null,
      "metadata": {
        "colab": {
          "background_save": true,
          "base_uri": "https://localhost:8080/",
          "height": 834
        },
        "id": "TGOxW7tSuZnD",
        "outputId": "3fa505e0-3225-4217-ac82-bc1cdd192c24"
      },
      "outputs": [
        {
          "data": {
            "text/html": [
              "\n",
              "  <div id=\"df-01fe388b-818e-419a-81ac-4e3272c04688\">\n",
              "    <div class=\"colab-df-container\">\n",
              "      <div>\n",
              "<style scoped>\n",
              "    .dataframe tbody tr th:only-of-type {\n",
              "        vertical-align: middle;\n",
              "    }\n",
              "\n",
              "    .dataframe tbody tr th {\n",
              "        vertical-align: top;\n",
              "    }\n",
              "\n",
              "    .dataframe thead th {\n",
              "        text-align: right;\n",
              "    }\n",
              "</style>\n",
              "<table border=\"1\" class=\"dataframe\">\n",
              "  <thead>\n",
              "    <tr style=\"text-align: right;\">\n",
              "      <th></th>\n",
              "      <th>SEQN</th>\n",
              "      <th>ALQ101</th>\n",
              "      <th>ALQ110</th>\n",
              "      <th>ALQ130</th>\n",
              "      <th>SMQ020</th>\n",
              "      <th>RIAGENDR</th>\n",
              "      <th>RIDAGEYR</th>\n",
              "      <th>RIDRETH1</th>\n",
              "      <th>DMDCITZN</th>\n",
              "      <th>DMDEDUC2</th>\n",
              "      <th>DMDMARTL</th>\n",
              "      <th>DMDHHSIZ</th>\n",
              "      <th>WTINT2YR</th>\n",
              "      <th>SDMVPSU</th>\n",
              "      <th>SDMVSTRA</th>\n",
              "      <th>INDFMPIR</th>\n",
              "      <th>BPXSY1</th>\n",
              "      <th>BPXDI1</th>\n",
              "      <th>BPXSY2</th>\n",
              "      <th>BPXDI2</th>\n",
              "      <th>BMXWT</th>\n",
              "      <th>BMXHT</th>\n",
              "      <th>BMXBMI</th>\n",
              "      <th>BMXLEG</th>\n",
              "      <th>BMXARML</th>\n",
              "      <th>BMXARMC</th>\n",
              "      <th>BMXWAIST</th>\n",
              "      <th>HIQ210</th>\n",
              "      <th>SMQ020x</th>\n",
              "      <th>RIAGENDRx</th>\n",
              "      <th>Race</th>\n",
              "    </tr>\n",
              "  </thead>\n",
              "  <tbody>\n",
              "    <tr>\n",
              "      <th>0</th>\n",
              "      <td>83732</td>\n",
              "      <td>1.0</td>\n",
              "      <td>NaN</td>\n",
              "      <td>1.0</td>\n",
              "      <td>Yes</td>\n",
              "      <td>Male</td>\n",
              "      <td>62</td>\n",
              "      <td>Non-Hispanic White</td>\n",
              "      <td>1.0</td>\n",
              "      <td>5.0</td>\n",
              "      <td>1.0</td>\n",
              "      <td>2</td>\n",
              "      <td>134671.37</td>\n",
              "      <td>1</td>\n",
              "      <td>125</td>\n",
              "      <td>4.39</td>\n",
              "      <td>128.0</td>\n",
              "      <td>70.0</td>\n",
              "      <td>124.0</td>\n",
              "      <td>64.0</td>\n",
              "      <td>94.8</td>\n",
              "      <td>184.5</td>\n",
              "      <td>27.8</td>\n",
              "      <td>43.3</td>\n",
              "      <td>43.6</td>\n",
              "      <td>35.9</td>\n",
              "      <td>101.1</td>\n",
              "      <td>2.0</td>\n",
              "      <td>None</td>\n",
              "      <td>None</td>\n",
              "      <td>None</td>\n",
              "    </tr>\n",
              "    <tr>\n",
              "      <th>1</th>\n",
              "      <td>83733</td>\n",
              "      <td>1.0</td>\n",
              "      <td>NaN</td>\n",
              "      <td>6.0</td>\n",
              "      <td>Yes</td>\n",
              "      <td>Male</td>\n",
              "      <td>53</td>\n",
              "      <td>Non-Hispanic White</td>\n",
              "      <td>2.0</td>\n",
              "      <td>3.0</td>\n",
              "      <td>3.0</td>\n",
              "      <td>1</td>\n",
              "      <td>24328.56</td>\n",
              "      <td>1</td>\n",
              "      <td>125</td>\n",
              "      <td>1.32</td>\n",
              "      <td>146.0</td>\n",
              "      <td>88.0</td>\n",
              "      <td>140.0</td>\n",
              "      <td>88.0</td>\n",
              "      <td>90.4</td>\n",
              "      <td>171.4</td>\n",
              "      <td>30.8</td>\n",
              "      <td>38.0</td>\n",
              "      <td>40.0</td>\n",
              "      <td>33.2</td>\n",
              "      <td>107.9</td>\n",
              "      <td>NaN</td>\n",
              "      <td>None</td>\n",
              "      <td>None</td>\n",
              "      <td>None</td>\n",
              "    </tr>\n",
              "    <tr>\n",
              "      <th>2</th>\n",
              "      <td>83734</td>\n",
              "      <td>1.0</td>\n",
              "      <td>NaN</td>\n",
              "      <td>NaN</td>\n",
              "      <td>Yes</td>\n",
              "      <td>Male</td>\n",
              "      <td>78</td>\n",
              "      <td>Non-Hispanic White</td>\n",
              "      <td>1.0</td>\n",
              "      <td>3.0</td>\n",
              "      <td>1.0</td>\n",
              "      <td>2</td>\n",
              "      <td>12400.01</td>\n",
              "      <td>1</td>\n",
              "      <td>131</td>\n",
              "      <td>1.51</td>\n",
              "      <td>138.0</td>\n",
              "      <td>46.0</td>\n",
              "      <td>132.0</td>\n",
              "      <td>44.0</td>\n",
              "      <td>83.4</td>\n",
              "      <td>170.1</td>\n",
              "      <td>28.8</td>\n",
              "      <td>35.6</td>\n",
              "      <td>37.0</td>\n",
              "      <td>31.0</td>\n",
              "      <td>116.5</td>\n",
              "      <td>2.0</td>\n",
              "      <td>None</td>\n",
              "      <td>None</td>\n",
              "      <td>None</td>\n",
              "    </tr>\n",
              "    <tr>\n",
              "      <th>3</th>\n",
              "      <td>83735</td>\n",
              "      <td>2.0</td>\n",
              "      <td>1.0</td>\n",
              "      <td>1.0</td>\n",
              "      <td>No</td>\n",
              "      <td>Female</td>\n",
              "      <td>56</td>\n",
              "      <td>Non-Hispanic White</td>\n",
              "      <td>1.0</td>\n",
              "      <td>5.0</td>\n",
              "      <td>6.0</td>\n",
              "      <td>1</td>\n",
              "      <td>102718.00</td>\n",
              "      <td>1</td>\n",
              "      <td>131</td>\n",
              "      <td>5.00</td>\n",
              "      <td>132.0</td>\n",
              "      <td>72.0</td>\n",
              "      <td>134.0</td>\n",
              "      <td>68.0</td>\n",
              "      <td>109.8</td>\n",
              "      <td>160.9</td>\n",
              "      <td>42.4</td>\n",
              "      <td>38.5</td>\n",
              "      <td>37.7</td>\n",
              "      <td>38.3</td>\n",
              "      <td>110.1</td>\n",
              "      <td>2.0</td>\n",
              "      <td>None</td>\n",
              "      <td>None</td>\n",
              "      <td>None</td>\n",
              "    </tr>\n",
              "    <tr>\n",
              "      <th>4</th>\n",
              "      <td>83736</td>\n",
              "      <td>2.0</td>\n",
              "      <td>1.0</td>\n",
              "      <td>1.0</td>\n",
              "      <td>No</td>\n",
              "      <td>Female</td>\n",
              "      <td>42</td>\n",
              "      <td>Non-Hispanic Black</td>\n",
              "      <td>1.0</td>\n",
              "      <td>4.0</td>\n",
              "      <td>3.0</td>\n",
              "      <td>5</td>\n",
              "      <td>17627.67</td>\n",
              "      <td>2</td>\n",
              "      <td>126</td>\n",
              "      <td>1.23</td>\n",
              "      <td>100.0</td>\n",
              "      <td>70.0</td>\n",
              "      <td>114.0</td>\n",
              "      <td>54.0</td>\n",
              "      <td>55.2</td>\n",
              "      <td>164.9</td>\n",
              "      <td>20.3</td>\n",
              "      <td>37.4</td>\n",
              "      <td>36.0</td>\n",
              "      <td>27.2</td>\n",
              "      <td>80.4</td>\n",
              "      <td>2.0</td>\n",
              "      <td>None</td>\n",
              "      <td>None</td>\n",
              "      <td>None</td>\n",
              "    </tr>\n",
              "    <tr>\n",
              "      <th>...</th>\n",
              "      <td>...</td>\n",
              "      <td>...</td>\n",
              "      <td>...</td>\n",
              "      <td>...</td>\n",
              "      <td>...</td>\n",
              "      <td>...</td>\n",
              "      <td>...</td>\n",
              "      <td>...</td>\n",
              "      <td>...</td>\n",
              "      <td>...</td>\n",
              "      <td>...</td>\n",
              "      <td>...</td>\n",
              "      <td>...</td>\n",
              "      <td>...</td>\n",
              "      <td>...</td>\n",
              "      <td>...</td>\n",
              "      <td>...</td>\n",
              "      <td>...</td>\n",
              "      <td>...</td>\n",
              "      <td>...</td>\n",
              "      <td>...</td>\n",
              "      <td>...</td>\n",
              "      <td>...</td>\n",
              "      <td>...</td>\n",
              "      <td>...</td>\n",
              "      <td>...</td>\n",
              "      <td>...</td>\n",
              "      <td>...</td>\n",
              "      <td>...</td>\n",
              "      <td>...</td>\n",
              "      <td>...</td>\n",
              "    </tr>\n",
              "    <tr>\n",
              "      <th>5730</th>\n",
              "      <td>93695</td>\n",
              "      <td>2.0</td>\n",
              "      <td>2.0</td>\n",
              "      <td>NaN</td>\n",
              "      <td>Yes</td>\n",
              "      <td>Female</td>\n",
              "      <td>76</td>\n",
              "      <td>Non-Hispanic White</td>\n",
              "      <td>1.0</td>\n",
              "      <td>3.0</td>\n",
              "      <td>2.0</td>\n",
              "      <td>1</td>\n",
              "      <td>58614.08</td>\n",
              "      <td>2</td>\n",
              "      <td>130</td>\n",
              "      <td>1.43</td>\n",
              "      <td>112.0</td>\n",
              "      <td>48.0</td>\n",
              "      <td>112.0</td>\n",
              "      <td>46.0</td>\n",
              "      <td>59.1</td>\n",
              "      <td>165.8</td>\n",
              "      <td>21.5</td>\n",
              "      <td>38.2</td>\n",
              "      <td>37.0</td>\n",
              "      <td>29.5</td>\n",
              "      <td>95.0</td>\n",
              "      <td>2.0</td>\n",
              "      <td>None</td>\n",
              "      <td>None</td>\n",
              "      <td>None</td>\n",
              "    </tr>\n",
              "    <tr>\n",
              "      <th>5731</th>\n",
              "      <td>93696</td>\n",
              "      <td>2.0</td>\n",
              "      <td>2.0</td>\n",
              "      <td>NaN</td>\n",
              "      <td>No</td>\n",
              "      <td>Male</td>\n",
              "      <td>26</td>\n",
              "      <td>Non-Hispanic White</td>\n",
              "      <td>1.0</td>\n",
              "      <td>5.0</td>\n",
              "      <td>1.0</td>\n",
              "      <td>3</td>\n",
              "      <td>122920.60</td>\n",
              "      <td>1</td>\n",
              "      <td>121</td>\n",
              "      <td>2.99</td>\n",
              "      <td>118.0</td>\n",
              "      <td>68.0</td>\n",
              "      <td>116.0</td>\n",
              "      <td>76.0</td>\n",
              "      <td>112.1</td>\n",
              "      <td>182.2</td>\n",
              "      <td>33.8</td>\n",
              "      <td>43.4</td>\n",
              "      <td>41.8</td>\n",
              "      <td>42.3</td>\n",
              "      <td>110.2</td>\n",
              "      <td>2.0</td>\n",
              "      <td>None</td>\n",
              "      <td>None</td>\n",
              "      <td>None</td>\n",
              "    </tr>\n",
              "    <tr>\n",
              "      <th>5732</th>\n",
              "      <td>93697</td>\n",
              "      <td>1.0</td>\n",
              "      <td>NaN</td>\n",
              "      <td>1.0</td>\n",
              "      <td>Yes</td>\n",
              "      <td>Female</td>\n",
              "      <td>80</td>\n",
              "      <td>Non-Hispanic White</td>\n",
              "      <td>1.0</td>\n",
              "      <td>4.0</td>\n",
              "      <td>2.0</td>\n",
              "      <td>1</td>\n",
              "      <td>49050.06</td>\n",
              "      <td>2</td>\n",
              "      <td>132</td>\n",
              "      <td>2.97</td>\n",
              "      <td>154.0</td>\n",
              "      <td>56.0</td>\n",
              "      <td>146.0</td>\n",
              "      <td>58.0</td>\n",
              "      <td>71.7</td>\n",
              "      <td>152.2</td>\n",
              "      <td>31.0</td>\n",
              "      <td>31.3</td>\n",
              "      <td>37.5</td>\n",
              "      <td>28.8</td>\n",
              "      <td>NaN</td>\n",
              "      <td>2.0</td>\n",
              "      <td>None</td>\n",
              "      <td>None</td>\n",
              "      <td>None</td>\n",
              "    </tr>\n",
              "    <tr>\n",
              "      <th>5733</th>\n",
              "      <td>93700</td>\n",
              "      <td>NaN</td>\n",
              "      <td>NaN</td>\n",
              "      <td>NaN</td>\n",
              "      <td>Yes</td>\n",
              "      <td>Male</td>\n",
              "      <td>35</td>\n",
              "      <td>Non-Hispanic White</td>\n",
              "      <td>2.0</td>\n",
              "      <td>1.0</td>\n",
              "      <td>1.0</td>\n",
              "      <td>5</td>\n",
              "      <td>42314.29</td>\n",
              "      <td>1</td>\n",
              "      <td>126</td>\n",
              "      <td>0.00</td>\n",
              "      <td>104.0</td>\n",
              "      <td>62.0</td>\n",
              "      <td>106.0</td>\n",
              "      <td>66.0</td>\n",
              "      <td>78.2</td>\n",
              "      <td>173.3</td>\n",
              "      <td>26.0</td>\n",
              "      <td>40.3</td>\n",
              "      <td>37.5</td>\n",
              "      <td>30.6</td>\n",
              "      <td>98.9</td>\n",
              "      <td>2.0</td>\n",
              "      <td>None</td>\n",
              "      <td>None</td>\n",
              "      <td>None</td>\n",
              "    </tr>\n",
              "    <tr>\n",
              "      <th>5734</th>\n",
              "      <td>93702</td>\n",
              "      <td>1.0</td>\n",
              "      <td>NaN</td>\n",
              "      <td>2.0</td>\n",
              "      <td>No</td>\n",
              "      <td>Female</td>\n",
              "      <td>24</td>\n",
              "      <td>Non-Hispanic White</td>\n",
              "      <td>1.0</td>\n",
              "      <td>5.0</td>\n",
              "      <td>5.0</td>\n",
              "      <td>3</td>\n",
              "      <td>107361.91</td>\n",
              "      <td>2</td>\n",
              "      <td>119</td>\n",
              "      <td>3.54</td>\n",
              "      <td>118.0</td>\n",
              "      <td>66.0</td>\n",
              "      <td>114.0</td>\n",
              "      <td>68.0</td>\n",
              "      <td>58.3</td>\n",
              "      <td>165.0</td>\n",
              "      <td>21.4</td>\n",
              "      <td>38.2</td>\n",
              "      <td>33.5</td>\n",
              "      <td>26.2</td>\n",
              "      <td>72.5</td>\n",
              "      <td>2.0</td>\n",
              "      <td>None</td>\n",
              "      <td>None</td>\n",
              "      <td>None</td>\n",
              "    </tr>\n",
              "  </tbody>\n",
              "</table>\n",
              "<p>5735 rows × 31 columns</p>\n",
              "</div>\n",
              "      <button class=\"colab-df-convert\" onclick=\"convertToInteractive('df-01fe388b-818e-419a-81ac-4e3272c04688')\"\n",
              "              title=\"Convert this dataframe to an interactive table.\"\n",
              "              style=\"display:none;\">\n",
              "        \n",
              "  <svg xmlns=\"http://www.w3.org/2000/svg\" height=\"24px\"viewBox=\"0 0 24 24\"\n",
              "       width=\"24px\">\n",
              "    <path d=\"M0 0h24v24H0V0z\" fill=\"none\"/>\n",
              "    <path d=\"M18.56 5.44l.94 2.06.94-2.06 2.06-.94-2.06-.94-.94-2.06-.94 2.06-2.06.94zm-11 1L8.5 8.5l.94-2.06 2.06-.94-2.06-.94L8.5 2.5l-.94 2.06-2.06.94zm10 10l.94 2.06.94-2.06 2.06-.94-2.06-.94-.94-2.06-.94 2.06-2.06.94z\"/><path d=\"M17.41 7.96l-1.37-1.37c-.4-.4-.92-.59-1.43-.59-.52 0-1.04.2-1.43.59L10.3 9.45l-7.72 7.72c-.78.78-.78 2.05 0 2.83L4 21.41c.39.39.9.59 1.41.59.51 0 1.02-.2 1.41-.59l7.78-7.78 2.81-2.81c.8-.78.8-2.07 0-2.86zM5.41 20L4 18.59l7.72-7.72 1.47 1.35L5.41 20z\"/>\n",
              "  </svg>\n",
              "      </button>\n",
              "      \n",
              "  <style>\n",
              "    .colab-df-container {\n",
              "      display:flex;\n",
              "      flex-wrap:wrap;\n",
              "      gap: 12px;\n",
              "    }\n",
              "\n",
              "    .colab-df-convert {\n",
              "      background-color: #E8F0FE;\n",
              "      border: none;\n",
              "      border-radius: 50%;\n",
              "      cursor: pointer;\n",
              "      display: none;\n",
              "      fill: #1967D2;\n",
              "      height: 32px;\n",
              "      padding: 0 0 0 0;\n",
              "      width: 32px;\n",
              "    }\n",
              "\n",
              "    .colab-df-convert:hover {\n",
              "      background-color: #E2EBFA;\n",
              "      box-shadow: 0px 1px 2px rgba(60, 64, 67, 0.3), 0px 1px 3px 1px rgba(60, 64, 67, 0.15);\n",
              "      fill: #174EA6;\n",
              "    }\n",
              "\n",
              "    [theme=dark] .colab-df-convert {\n",
              "      background-color: #3B4455;\n",
              "      fill: #D2E3FC;\n",
              "    }\n",
              "\n",
              "    [theme=dark] .colab-df-convert:hover {\n",
              "      background-color: #434B5C;\n",
              "      box-shadow: 0px 1px 3px 1px rgba(0, 0, 0, 0.15);\n",
              "      filter: drop-shadow(0px 1px 2px rgba(0, 0, 0, 0.3));\n",
              "      fill: #FFFFFF;\n",
              "    }\n",
              "  </style>\n",
              "\n",
              "      <script>\n",
              "        const buttonEl =\n",
              "          document.querySelector('#df-01fe388b-818e-419a-81ac-4e3272c04688 button.colab-df-convert');\n",
              "        buttonEl.style.display =\n",
              "          google.colab.kernel.accessAllowed ? 'block' : 'none';\n",
              "\n",
              "        async function convertToInteractive(key) {\n",
              "          const element = document.querySelector('#df-01fe388b-818e-419a-81ac-4e3272c04688');\n",
              "          const dataTable =\n",
              "            await google.colab.kernel.invokeFunction('convertToInteractive',\n",
              "                                                     [key], {});\n",
              "          if (!dataTable) return;\n",
              "\n",
              "          const docLinkHtml = 'Like what you see? Visit the ' +\n",
              "            '<a target=\"_blank\" href=https://colab.research.google.com/notebooks/data_table.ipynb>data table notebook</a>'\n",
              "            + ' to learn more about interactive tables.';\n",
              "          element.innerHTML = '';\n",
              "          dataTable['output_type'] = 'display_data';\n",
              "          await google.colab.output.renderOutput(dataTable, element);\n",
              "          const docLink = document.createElement('div');\n",
              "          docLink.innerHTML = docLinkHtml;\n",
              "          element.appendChild(docLink);\n",
              "        }\n",
              "      </script>\n",
              "    </div>\n",
              "  </div>\n",
              "  "
            ],
            "text/plain": [
              "       SEQN  ALQ101  ALQ110  ALQ130 SMQ020 RIAGENDR  RIDAGEYR  \\\n",
              "0     83732     1.0     NaN     1.0    Yes     Male        62   \n",
              "1     83733     1.0     NaN     6.0    Yes     Male        53   \n",
              "2     83734     1.0     NaN     NaN    Yes     Male        78   \n",
              "3     83735     2.0     1.0     1.0     No   Female        56   \n",
              "4     83736     2.0     1.0     1.0     No   Female        42   \n",
              "...     ...     ...     ...     ...    ...      ...       ...   \n",
              "5730  93695     2.0     2.0     NaN    Yes   Female        76   \n",
              "5731  93696     2.0     2.0     NaN     No     Male        26   \n",
              "5732  93697     1.0     NaN     1.0    Yes   Female        80   \n",
              "5733  93700     NaN     NaN     NaN    Yes     Male        35   \n",
              "5734  93702     1.0     NaN     2.0     No   Female        24   \n",
              "\n",
              "                RIDRETH1  DMDCITZN  DMDEDUC2  DMDMARTL  DMDHHSIZ   WTINT2YR  \\\n",
              "0     Non-Hispanic White       1.0       5.0       1.0         2  134671.37   \n",
              "1     Non-Hispanic White       2.0       3.0       3.0         1   24328.56   \n",
              "2     Non-Hispanic White       1.0       3.0       1.0         2   12400.01   \n",
              "3     Non-Hispanic White       1.0       5.0       6.0         1  102718.00   \n",
              "4     Non-Hispanic Black       1.0       4.0       3.0         5   17627.67   \n",
              "...                  ...       ...       ...       ...       ...        ...   \n",
              "5730  Non-Hispanic White       1.0       3.0       2.0         1   58614.08   \n",
              "5731  Non-Hispanic White       1.0       5.0       1.0         3  122920.60   \n",
              "5732  Non-Hispanic White       1.0       4.0       2.0         1   49050.06   \n",
              "5733  Non-Hispanic White       2.0       1.0       1.0         5   42314.29   \n",
              "5734  Non-Hispanic White       1.0       5.0       5.0         3  107361.91   \n",
              "\n",
              "      SDMVPSU  SDMVSTRA  INDFMPIR  BPXSY1  BPXDI1  BPXSY2  BPXDI2  BMXWT  \\\n",
              "0           1       125      4.39   128.0    70.0   124.0    64.0   94.8   \n",
              "1           1       125      1.32   146.0    88.0   140.0    88.0   90.4   \n",
              "2           1       131      1.51   138.0    46.0   132.0    44.0   83.4   \n",
              "3           1       131      5.00   132.0    72.0   134.0    68.0  109.8   \n",
              "4           2       126      1.23   100.0    70.0   114.0    54.0   55.2   \n",
              "...       ...       ...       ...     ...     ...     ...     ...    ...   \n",
              "5730        2       130      1.43   112.0    48.0   112.0    46.0   59.1   \n",
              "5731        1       121      2.99   118.0    68.0   116.0    76.0  112.1   \n",
              "5732        2       132      2.97   154.0    56.0   146.0    58.0   71.7   \n",
              "5733        1       126      0.00   104.0    62.0   106.0    66.0   78.2   \n",
              "5734        2       119      3.54   118.0    66.0   114.0    68.0   58.3   \n",
              "\n",
              "      BMXHT  BMXBMI  BMXLEG  BMXARML  BMXARMC  BMXWAIST  HIQ210 SMQ020x  \\\n",
              "0     184.5    27.8    43.3     43.6     35.9     101.1     2.0    None   \n",
              "1     171.4    30.8    38.0     40.0     33.2     107.9     NaN    None   \n",
              "2     170.1    28.8    35.6     37.0     31.0     116.5     2.0    None   \n",
              "3     160.9    42.4    38.5     37.7     38.3     110.1     2.0    None   \n",
              "4     164.9    20.3    37.4     36.0     27.2      80.4     2.0    None   \n",
              "...     ...     ...     ...      ...      ...       ...     ...     ...   \n",
              "5730  165.8    21.5    38.2     37.0     29.5      95.0     2.0    None   \n",
              "5731  182.2    33.8    43.4     41.8     42.3     110.2     2.0    None   \n",
              "5732  152.2    31.0    31.3     37.5     28.8       NaN     2.0    None   \n",
              "5733  173.3    26.0    40.3     37.5     30.6      98.9     2.0    None   \n",
              "5734  165.0    21.4    38.2     33.5     26.2      72.5     2.0    None   \n",
              "\n",
              "     RIAGENDRx  Race  \n",
              "0         None  None  \n",
              "1         None  None  \n",
              "2         None  None  \n",
              "3         None  None  \n",
              "4         None  None  \n",
              "...        ...   ...  \n",
              "5730      None  None  \n",
              "5731      None  None  \n",
              "5732      None  None  \n",
              "5733      None  None  \n",
              "5734      None  None  \n",
              "\n",
              "[5735 rows x 31 columns]"
            ]
          },
          "execution_count": 21,
          "metadata": {},
          "output_type": "execute_result"
        }
      ],
      "source": [
        "df"
      ]
    },
    {
      "cell_type": "code",
      "execution_count": null,
      "metadata": {
        "colab": {
          "background_save": true,
          "base_uri": "https://localhost:8080/",
          "height": 235
        },
        "id": "s-pdBu_rui9k",
        "outputId": "f39da984-000b-4597-d3f1-3ddb379e1244"
      },
      "outputs": [
        {
          "data": {
            "image/png": "[encoded data removed]",
            "text/plain": [
              "<Figure size 640x480 with 1 Axes>"
            ]
          },
          "metadata": {},
          "output_type": "display_data"
        }
      ],
      "source": [
        "# create a pie chart\n",
        "gender_counts = df['RIDRETH1'].value_counts()\n",
        "labels = ['Mexican American', \"Other Hispanic\", \"Non-Hispanic White\",  \"Non-Hispanic Black\", \"Other Race - Including Multi-Racial\"]\n",
        "plt.pie(gender_counts, labels=labels, autopct='%1.1f%%')\n",
        "plt.title('Ethnic Distribution')\n",
        "plt.show()"
      ]
    },
    {
      "cell_type": "markdown",
      "metadata": {
        "id": "lyibdlfoikNj"
      },
      "source": [
        "Analysis: Dari Pie Chart diatas, dapat dilihat bahwa persentase tertinggi yaitu Mexican American sebesar 32.1%, kemudian Other Hispanic sebesar 21.4%, Non-Hispanic White sebesar 17.8%, Non-Hispanic Black sebesar 15.7%, dan yang paling kecil yaitu Other Race - Including Multi Racial sebesar 13.1%"
      ]
    },
    {
      "cell_type": "markdown",
      "metadata": {
        "id": "Tfr-yLyYTanP"
      },
      "source": [
        "## **BAR CHARTS**\n",
        "* untuk menampilkan nilai-nilai numerik atau kategorikal dalam bentuk batang vertikal atau horizontal\n",
        "* untuk membandingkan nilai-nilai dari beberapa kategori yang berbeda\n",
        "* sumbu-x menunjukkan kategori\n",
        "* sumbu-y menunjukkan nilai atau frekuensi dari setiap kategori"
      ]
    },
    {
      "cell_type": "code",
      "execution_count": null,
      "metadata": {
        "colab": {
          "background_save": true
        },
        "id": "1L8O9gr9vN4a"
      },
      "outputs": [],
      "source": [
        "# create bar chart\n",
        "plt.bar(df.index, df[\"BMXWT\"])\n",
        "plt.xlabel(\"Index\")\n",
        "plt.ylabel(\"Weight (kg)\")\n",
        "plt.title(\"Weight Distribution\")\n",
        "plt.show()"
      ]
    },
    {
      "cell_type": "code",
      "execution_count": null,
      "metadata": {
        "colab": {
          "background_save": true
        },
        "id": "Vx8aqZCivw7e"
      },
      "outputs": [],
      "source": [
        "import seaborn as sns\n",
        "sns.histplot(df[\"BMXWT\"], kde=True)\n",
        "plt.xlabel(\"Weight (kg)\")\n",
        "plt.ylabel(\"Frequency\")\n",
        "plt.title(\"Weight Distribution\")\n",
        "plt.show()"
      ]
    },
    {
      "cell_type": "markdown",
      "metadata": {
        "id": "sazWwy4tTlDY"
      },
      "source": [
        "## **X-Y PLOTS/SCATTER PLOT**\n",
        "* untuk menampilkan hubungan antara dua variabel numerik\n",
        "* digambarkan sebagai diagram kartesian\n",
        "* sumbu-x menunjukkan nilai dari satu variabel\n",
        "* sumbu-y menunjukkan nilai dari variabel yang lain\n",
        "* setiap titik pada X-Y plot mewakili pasangan nilai dari kedua variabel untuk sebuah observasi.\n",
        "* dapat membantu dalam menemukan pola, tren, dan hubungan antara variabel yang diamati\n",
        "* kita dapat melihat apakah ada hubungan yang linier atau tidak linier antara variabel yang diamati?"
      ]
    },
    {
      "cell_type": "code",
      "execution_count": null,
      "metadata": {
        "colab": {
          "background_save": true
        },
        "id": "26BKzWjlwFaF"
      },
      "outputs": [],
      "source": [
        "plt.scatter(df['RIDAGEYR'], df['BPXSY1'])\n",
        "plt.xlabel('Age (years)')\n",
        "plt.ylabel('Systolic Blood Pressure (mmHg)')\n",
        "plt.title('Age vs. Systolic Blood Pressure Scatter Plot')\n",
        "plt.show()"
      ]
    },
    {
      "cell_type": "code",
      "execution_count": null,
      "metadata": {
        "colab": {
          "background_save": true
        },
        "id": "4KHQRIKtwlPD"
      },
      "outputs": [],
      "source": [
        "plt.plot(df['BMXWT'], df['BMXHT'], 'o')\n",
        "plt.xlabel('Weight (kg)')\n",
        "plt.ylabel('Height (cm)')\n",
        "plt.title('Weight vs. Height Scatter Plot')\n",
        "plt.show()"
      ]
    },
    {
      "cell_type": "markdown",
      "metadata": {
        "id": "AybPXdCGT_FU"
      },
      "source": [
        "## **HEATMAPS**\n",
        "* untuk menampilkan data dalam bentuk matriks dengan kode warna\n",
        "* digunakan untuk memvisualisasikan data numerik dalam bentuk tabel dengan ukuran besar, di mana titik data tidak dapat ditampilkan secara efektif dalam bentuk tabel biasa\n",
        "* di mana warna yang lebih terang menunjukkan nilai yang lebih tinggi\n",
        "* warna yang lebih gelap menunjukkan nilai yang lebih rendah\n",
        "* untuk melihat pola dan tren dalam data dengan cara yang lebih intuitif dan efektif"
      ]
    },
    {
      "cell_type": "code",
      "execution_count": null,
      "metadata": {
        "colab": {
          "background_save": true,
          "base_uri": "https://localhost:8080/",
          "height": 520
        },
        "id": "1Ntqv0J1yMaW",
        "outputId": "9526f658-f4f8-4750-d3a4-fb76930f3041"
      },
      "outputs": [
        {
          "data": {
            "image/png": "[encoded data removed]",
            "text/plain": [
              "<Figure size 640x480 with 2 Axes>"
            ]
          },
          "metadata": {},
          "output_type": "display_data"
        }
      ],
      "source": [
        "import seaborn as sns\n",
        "corr = df.corr()\n",
        "sns.heatmap(corr, cmap='coolwarm', annot=True)\n",
        "plt.title('Correlation Heatmap')\n",
        "plt.show()"
      ]
    },
    {
      "cell_type": "code",
      "execution_count": null,
      "metadata": {
        "colab": {
          "background_save": true,
          "base_uri": "https://localhost:8080/"
        },
        "id": "_7hTGOLcyZIU",
        "outputId": "a87af72f-594e-4a76-e655-57c499ed2dc1"
      },
      "outputs": [
        {
          "name": "stdout",
          "output_type": "stream",
          "text": [
            "Mean weight: 81.34 kg\n",
            "Median height: 166.00 cm\n",
            "Standard deviation of weight: 21.76 kg\n",
            "Standard deviation of height: 10.08 cm\n"
          ]
        }
      ],
      "source": [
        "mean_weight = df['BMXWT'].mean()\n",
        "median_height = df['BMXHT'].median()\n",
        "std_weight = df['BMXWT'].std()\n",
        "std_height = df['BMXHT'].std()\n",
        "\n",
        "# Print the summary statistics\n",
        "print(f\"Mean weight: {mean_weight:.2f} kg\")\n",
        "print(f\"Median height: {median_height:.2f} cm\")\n",
        "print(f\"Standard deviation of weight: {std_weight:.2f} kg\")\n",
        "print(f\"Standard deviation of height: {std_height:.2f} cm\")"
      ]
    },
    {
      "cell_type": "markdown",
      "metadata": {
        "id": "K_Yea_K2ZGNm"
      },
      "source": [
        "# **STATISTICAL HYPOTHESIS TEST CHEAT SHEET (OPTIONAL)**"
      ]
    },
    {
      "cell_type": "markdown",
      "metadata": {
        "id": "TeUv5BOdZA7v"
      },
      "source": [
        "## **NORMALITY TEST (TES NORMALITAS)**\n",
        "Normality test adalah teknik statistik yang digunakan untuk mengevaluasi apakah data berasal dari distribusi normal atau tidak. Normalitas data adalah asumsi penting dalam banyak teknik statistik parametrik, seperti uji t, uji ANOVA, dan analisis regresi, dan jika data tidak berdistribusi normal, maka teknik statistik parametrik tersebut tidak dapat digunakan atau akan menghasilkan hasil yang salah.\n",
        "Hipotesis nol pada normality test adalah bahwa data berasal dari distribusi normal, sedangkan hipotesis alternatif adalah bahwa data tidak berasal dari distribusi normal.\n",
        "\n",
        "Keuntungan dari normality test adalah bahwa ia memberikan informasi tentang apakah data berasal dari distribusi normal atau tidak, dan apakah asumsi normalitas data terpenuhi untuk teknik statistik parametrik tertentu. Namun, kelemahan dari normality test adalah bahwa hasilnya dapat dipengaruhi oleh ukuran sampel dan dapat menghasilkan kesalahan jenis I atau II, terutama pada sampel yang besar. Selain itu, normality test tidak memberikan informasi tentang bentuk distribusi data, hanya tentang apakah data berdistribusi normal atau tidak.\n",
        "* untuk memeriksa/ menguji apakah sampel data memiliki distribusi Gaussian?\n",
        "\n",
        "Asumsi\n",
        "* Pengamatan pada setiap sampel bersifat independen dan terdistribusi secara identik (iid)\n",
        "\n",
        "Penafsiran\n",
        "* H0 : sampel berdistribusi Gaussian\n",
        "* H1: sampel tidak memiliki distribusi Gaussian"
      ]
    },
    {
      "cell_type": "code",
      "execution_count": null,
      "metadata": {
        "colab": {
          "background_save": true
        },
        "id": "M4JOYs3OzJJa"
      },
      "outputs": [],
      "source": [
        "from scipy import stats"
      ]
    },
    {
      "cell_type": "markdown",
      "metadata": {
        "id": "WczL16wvYpDt"
      },
      "source": [
        "### **SHAPIRO-WILK TEST**\n",
        "Shapiro-Wilk test adalah salah satu jenis uji statistik yang digunakan untuk menguji apakah suatu sampel data berasal dari populasi yang berdistribusi normal atau tidak\n",
        "\n",
        "Uji ini bekerja dengan membandingkan distribusi data yang diamati dengan distribusi normal teoretis, dan menghasilkan nilai p-nilai yang menunjukkan seberapa signifikan perbedaan antara kedua distribusi tersebut"
      ]
    },
    {
      "cell_type": "code",
      "execution_count": null,
      "metadata": {
        "colab": {
          "background_save": true,
          "base_uri": "https://localhost:8080/"
        },
        "id": "S70VMiClzLXP",
        "outputId": "8e097e83-352d-4049-e748-3c33a40c5fcf"
      },
      "outputs": [
        {
          "name": "stdout",
          "output_type": "stream",
          "text": [
            "Shapiro-Wilk Test:\n",
            "Statistic = nan\n",
            "p-value = 1.0\n",
            "Hipotesis nol tidak dapat ditolak. Data terdistribusi secara normal.\n"
          ]
        }
      ],
      "source": [
        "#Shapiro-Wilk Test\n",
        "col = \"BMXWT\" # kami mengambil satu kolom mengacu pada berat badan yang diukur dalam kilogram\n",
        "stat, p = stats.shapiro(df[col])\n",
        "alpha = 0.05\n",
        "print(\"Shapiro-Wilk Test:\")\n",
        "print(\"Statistic =\", stat)\n",
        "print(\"p-value =\", p)\n",
        "if p > alpha:\n",
        "    print(\"Hipotesis nol tidak dapat ditolak. Data terdistribusi secara normal.\")\n",
        "else:\n",
        "    print(\"Hipotesis nol ditolak. Data tidak berdistribusi normal.\")"
      ]
    },
    {
      "cell_type": "markdown",
      "metadata": {
        "id": "gOvqfzfxYlMt"
      },
      "source": [
        "### **D'AGOSTINO K^2 TEST**\n",
        "D'Agostino K^2 test, atau sering disebut juga dengan D'Agostino-Pearson test, adalah salah satu uji statistik untuk menguji apakah sampel data berasal dari populasi yang berdistribusi normal atau tidak.\n",
        "\n",
        "D'Agostino K^2 test bekerja dengan menghitung nilai K^2 yang merupakan pengukuran statistik dari ketidaknormalan suatu sampel data. Nilai K^2 dihitung dengan menggabungkan tiga pengukuran statistik, yaitu skewness (kecondongan distribusi), kurtosis (lebar puncak distribusi), dan nilai statistik normalitas. Dari nilai K^2 yang didapat, dapat dihitung p-value yang menunjukkan signifikansi perbedaan antara distribusi data yang diamati dengan distribusi normal."
      ]
    },
    {
      "cell_type": "code",
      "execution_count": null,
      "metadata": {
        "colab": {
          "background_save": true
        },
        "id": "iGxiMEaJzvyn",
        "outputId": "a7c1cac8-70f1-4f88-cc34-e613bc680b7a"
      },
      "outputs": [
        {
          "name": "stdout",
          "output_type": "stream",
          "text": [
            "\n",
            "D'Agostino's K^2 Test:\n",
            "Statistic = nan\n",
            "p-value = nan\n",
            "Hipotesis nol ditolak. Data tidak berdistribusi normal.\n"
          ]
        }
      ],
      "source": [
        "#D’Agostino’s K^2 Test\n",
        "stat, p = stats.normaltest(df[col])\n",
        "alpha = 0.05\n",
        "print(\"\\nD'Agostino's K^2 Test:\")\n",
        "print(\"Statistic =\", stat)\n",
        "print(\"p-value =\", p)\n",
        "if p > alpha:\n",
        "  print(\"Hipotesis nol tidak dapat ditolak. Data terdistribusi secara normal.\")\n",
        "else:\n",
        "    print(\"Hipotesis nol ditolak. Data tidak berdistribusi normal.\")"
      ]
    },
    {
      "cell_type": "markdown",
      "metadata": {
        "id": "2yWuenagYcr5"
      },
      "source": [
        "## **ANDERSON-DARLING TEST**\n",
        "Anderson-Darling test adalah salah satu uji statistik yang digunakan untuk menguji apakah suatu sampel data berasal dari populasi yang berdistribusi normal atau tidak.\n",
        "\n",
        "Anderson-Darling test menggunakan nilai statistik A^2 yang dihitung dari perbedaan antara fungsi distribusi empiris dari sampel data dengan fungsi distribusi normal. Semakin besar nilai A^2, semakin jauh sampel data tersebut dari distribusi normal. Hasil uji diinterpretasikan dengan membandingkan nilai A^2 dengan nilai kritis yang tergantung pada tingkat signifikansi alpha yang digunakan."
      ]
    },
    {
      "cell_type": "code",
      "execution_count": null,
      "metadata": {
        "colab": {
          "background_save": true,
          "base_uri": "https://localhost:8080/"
        },
        "id": "EYLaRN50z6NU",
        "outputId": "33acdcc2-dd79-4832-af5a-77d9cb136067"
      },
      "outputs": [
        {
          "name": "stdout",
          "output_type": "stream",
          "text": [
            "\n",
            "Anderson-Darling Test:\n",
            "Statistic = nan\n",
            "p-value = 0.786\n",
            "Hipotesis nol ditolak. Data tidak berdistribusi normal.\n"
          ]
        }
      ],
      "source": [
        "#Anderson-Darling Tes\n",
        "result = stats.anderson(df[col], dist='norm')\n",
        "alpha = 0.05\n",
        "print(\"\\nAnderson-Darling Test:\")\n",
        "print(\"Statistic =\", result.statistic)\n",
        "print(\"p-value =\", result.critical_values[2])\n",
        "if result.statistic < result.critical_values[2]:\n",
        "  print(\"Hipotesis nol tidak dapat ditolak. Data terdistribusi secara normal.\")\n",
        "else:\n",
        "    print(\"Hipotesis nol ditolak. Data tidak berdistribusi normal.\")"
      ]
    },
    {
      "cell_type": "code",
      "execution_count": null,
      "metadata": {
        "colab": {
          "background_save": true
        },
        "id": "IuSm3llZ0Uia"
      },
      "outputs": [],
      "source": [
        "df.dropna(subset=['BMXBMI', 'BMXWT'], inplace=True)"
      ]
    },
    {
      "cell_type": "code",
      "execution_count": null,
      "metadata": {
        "colab": {
          "background_save": true
        },
        "id": "5g6pvKFe01ZH"
      },
      "outputs": [],
      "source": [
        "df.replace([np.inf, -np.inf], np.nan, inplace=True)\n",
        "df.dropna(subset=['BMXBMI', 'BMXWT'], inplace=True)"
      ]
    },
    {
      "cell_type": "markdown",
      "metadata": {
        "id": "NJv-WsDoYR0p"
      },
      "source": [
        "## **CORRELATION TEST**\n",
        "Correlation test adalah salah satu jenis uji statistik yang digunakan untuk mengevaluasi apakah ada hubungan linier antara dua variabel. Uji ini digunakan untuk mengukur seberapa kuat hubungan antara dua variabel dan arah hubungan tersebut.\n",
        "\n",
        "Koefisien Korelasi Pearson\n",
        "* Menguji apakah dua sampel memiliki hubungan linier?\n",
        "* Pearson correlation coefficient memiliki nilai antara -1 hingga 1, di mana nilai -1 menunjukkan hubungan linier negatif sempurna antara dua variabel, 0 menunjukkan tidak ada hubungan linier antara dua variabel, dan 1 menunjukkan hubungan linier positif sempurna antara dua variabel.\n",
        "\n",
        "Asumsi\n",
        "* Pengamatan pada setiap sampel bersifat independen dan terdistribusi secara identik (iid)\n",
        "* Pengamatan pada setiap sampel berdistribusi normal\n",
        "* Pengamatan pada setiap sampel memiliki varians yang sama\n",
        "\n",
        "Penafsiran\n",
        "* H0 : kedua sampel saling bebas\n",
        "* H1: ada ketergantungan antar sampel"
      ]
    },
    {
      "cell_type": "code",
      "execution_count": null,
      "metadata": {
        "colab": {
          "background_save": true,
          "base_uri": "https://localhost:8080/"
        },
        "id": "f_aScrVD0-J0",
        "outputId": "b28bdc38-52f3-4197-8440-558664aea1ef"
      },
      "outputs": [
        {
          "name": "stdout",
          "output_type": "stream",
          "text": [
            "Pearson's correlation coefficient: 0.884, p-value: 0.000\n"
          ]
        }
      ],
      "source": [
        "#Pearson’s Correlation Coefficient\n",
        "r, p = stats.pearsonr(df['BMXBMI'], df['BMXWT'])\n",
        "print(f\"Pearson's correlation coefficient: {r:.3f}, p-value: {p:.3f}\")"
      ]
    },
    {
      "cell_type": "markdown",
      "metadata": {
        "id": "gtIBX_xOYKpO"
      },
      "source": [
        "### **SPEARMAN'S RANK CORRELATION**\n",
        "Spearman's rank correlation adalah salah satu metode yang digunakan untuk mengukur hubungan antara dua variabel. Metode ini digunakan untuk mengukur hubungan monotonic (naik atau turun) antara dua variabel. Spearman's rank correlation dapat digunakan jika hubungan antara kedua variabel tidak memiliki asumsi bahwa hubungan tersebut harus linier.\n",
        "* Menguji apakah dua sampel memiliki hubungan yang monoton\n",
        "\n",
        "Asumsi\n",
        "* Pengamatan pada setiap sampel bersifat independen dan terdistribusi secara identik (iid)\n",
        "* Pengamatan dalam setiap sampel dapat diberi peringkat\n",
        "\n",
        "Penafsiran\n",
        "* H0 : kedua sampel saling bebas\n",
        "* H1: ada ketergantungan antar sampel"
      ]
    },
    {
      "cell_type": "code",
      "execution_count": null,
      "metadata": {
        "colab": {
          "background_save": true,
          "base_uri": "https://localhost:8080/"
        },
        "id": "uz-Zelvq1C7U",
        "outputId": "7514142f-3648-476c-8f0c-7a4d2eff268a"
      },
      "outputs": [
        {
          "name": "stdout",
          "output_type": "stream",
          "text": [
            "Spearman's rank correlation: 0.865, p-value: 0.000\n"
          ]
        }
      ],
      "source": [
        "#Spearman’s Rank Correlation\n",
        "rho, p = stats.spearmanr(df['BMXBMI'], df['BMXWT'])\n",
        "print(f\"Spearman's rank correlation: {rho:.3f}, p-value: {p:.3f}\")"
      ]
    },
    {
      "cell_type": "markdown",
      "metadata": {
        "id": "oqCiKCF3YBwp"
      },
      "source": [
        "### **KENDALL'S RANK CORRELATION**\n",
        "Kendall's Rank Correlation adalah sebuah metode untuk mengukur tingkat korelasi antara dua variabel ordinal\n",
        "\n",
        "Dalam Kendall's Rank Correlation, setiap data dikonversi menjadi ranking atau urutan, dan kemudian korelasi dihitung berdasarkan perbedaan antara dua set ranking. Semakin dekat perbedaan antara dua set ranking, semakin tinggi korelasi antara dua variabel.\n",
        "\n",
        "* Menguji apakah dua sampel memiliki hubungan yang monoton\n",
        "\n",
        "Asumsi\n",
        "* Pengamatan pada setiap sampel bersifat independen dan terdistribusi secara identik (iid)\n",
        "* Pengamatan dalam setiap sampel dapat diberi peringkat\n",
        "\n",
        "Penafsiran\n",
        "* H0 : kedua sampel saling bebas\n",
        "* H1: ada ketergantungan antar sampel"
      ]
    },
    {
      "cell_type": "code",
      "execution_count": null,
      "metadata": {
        "colab": {
          "background_save": true,
          "base_uri": "https://localhost:8080/"
        },
        "id": "JWkYRY_m1Gdw",
        "outputId": "9cdcafd8-383f-42ec-9bb0-7ffefd3a45b2"
      },
      "outputs": [
        {
          "name": "stdout",
          "output_type": "stream",
          "text": [
            "Kendall's rank correlation: 0.680, p-value: 0.000\n"
          ]
        }
      ],
      "source": [
        "#Kendall’s Rank Correlation\n",
        "tau, p = stats.kendalltau(df['BMXBMI'], df['BMXWT'])\n",
        "print(f\"Kendall's rank correlation: {tau:.3f}, p-value: {p:.3f}\")"
      ]
    },
    {
      "cell_type": "code",
      "execution_count": null,
      "metadata": {
        "colab": {
          "background_save": true
        },
        "id": "atCZurJZ2kN1"
      },
      "outputs": [],
      "source": [
        "contingency_table = pd.crosstab(df['DMDEDUC2'], df['RIDRETH1'])"
      ]
    },
    {
      "cell_type": "markdown",
      "metadata": {
        "id": "ryIQxxjsX6tW"
      },
      "source": [
        "### **CHI-SQUARE TEST**\n",
        "Uji Chi-Square adalah uji statistik yang digunakan untuk menguji apakah ada hubungan antara dua variabel kategorikal. Ini digunakan untuk menguji apakah distribusi data diamati sesuai dengan distribusi yang diharapkan.\n",
        "\n",
        "Jika perbedaan yang dihitung terlalu besar dibandingkan dengan nilai kritis, maka dapat disimpulkan bahwa ada hubungan yang signifikan antara dua variabel tersebut.\n",
        "* Menguji apakah dua variabel kategori terkait atau independen\n",
        "\n",
        "Asumsi\n",
        "* Pengamatan yang digunakan dalam perhitungan tabel kontingensi bersifat independen\n",
        "* 25 atau lebih contoh di setiap sel tabel kontingensi\n",
        "\n",
        "Penafsiran\n",
        "* H0 : kedua sampel saling bebas\n",
        "* H1: ada ketergantungan antar sampel"
      ]
    },
    {
      "cell_type": "code",
      "execution_count": null,
      "metadata": {
        "colab": {
          "background_save": true,
          "base_uri": "https://localhost:8080/"
        },
        "id": "45I8EHwC2ole",
        "outputId": "5c7f76c4-7fe3-42a1-c631-7c9bd40b9eb1"
      },
      "outputs": [
        {
          "name": "stdout",
          "output_type": "stream",
          "text": [
            "Chi-squared test statistic: 994.574, p-value: 0.000\n"
          ]
        }
      ],
      "source": [
        "#Chi-Squared Test\n",
        "from scipy.stats import chi2_contingency\n",
        "from statsmodels.tsa.stattools import adfuller, kpss\n",
        "chi2, p, dof, expected = chi2_contingency(contingency_table)\n",
        "print(f\"Chi-squared test statistic: {chi2:.3f}, p-value: {p:.3f}\")"
      ]
    },
    {
      "cell_type": "code",
      "execution_count": null,
      "metadata": {
        "colab": {
          "background_save": true,
          "base_uri": "https://localhost:8080/"
        },
        "id": "OvOD44Kg9QGi",
        "outputId": "121dfc71-e2d9-439d-cd8a-f72530da9c75"
      },
      "outputs": [
        {
          "name": "stdout",
          "output_type": "stream",
          "text": [
            "256\n"
          ]
        }
      ],
      "source": [
        "print(df['DMDEDUC2'].isnull().sum())"
      ]
    },
    {
      "cell_type": "code",
      "execution_count": null,
      "metadata": {
        "colab": {
          "background_save": true
        },
        "id": "GYuGaImC9TBf"
      },
      "outputs": [],
      "source": [
        "mean_value = df['DMDEDUC2'].mean()\n",
        "df['DMDEDUC2'].fillna(value=mean_value, inplace=True)"
      ]
    },
    {
      "cell_type": "markdown",
      "metadata": {
        "id": "A9kn3qZXXz9D"
      },
      "source": [
        "## **STATIONARY TEST**\n",
        "Stationarity Test (Uji Stasioner) adalah suatu teknik dalam analisis data dan pemodelan statistik yang digunakan untuk memeriksa apakah serangkaian data stasioner atau tidak. Serangkaian data dikatakan stasioner jika statistik yang diperoleh dari data tidak berubah seiring waktu.\n",
        "\n",
        "Asumsi stasioneritas harus terpenuhi untuk membuat model yang baik dan konsisten, terutama dalam analisis deret waktu. Uji ini digunakan untuk memeriksa apakah deret waktu stasioner atau tidak. Contoh penggunaannya termasuk dalam memprediksi harga saham, data ekonomi, dan dalam pengembangan model prediksi cuaca.\n",
        "\n",
        "Augmented Dickey-Fuller Unit Root Test\n",
        "* Menguji apakah deret waktu memiliki akar unit, misal. memiliki kecenderungan atau lebih umum adalah autoregressive.\n",
        "\n",
        "Asumsi\n",
        "* Pengamatan dalam dipesan secara temporer\n",
        "\n",
        "Penafsiran\n",
        "* H0: akar unit ada (deret tidak stasioner)\n",
        "* H1: akar unit tidak ada (seri stasioner)"
      ]
    },
    {
      "cell_type": "code",
      "execution_count": null,
      "metadata": {
        "colab": {
          "background_save": true,
          "base_uri": "https://localhost:8080/"
        },
        "id": "BX1qtUag20x-",
        "outputId": "e7a960df-a672-4c7d-c024-1ad40e3ef981"
      },
      "outputs": [
        {
          "name": "stdout",
          "output_type": "stream",
          "text": [
            "Augmented Dickey-Fuller test statistic: -76.352, p-value: 0.000\n"
          ]
        }
      ],
      "source": [
        "#Augmented Dickey-Fuller Unit Root Test\n",
        "adf_result = adfuller(df['DMDEDUC2'])\n",
        "print(f\"Augmented Dickey-Fuller test statistic: {adf_result[0]:.3f}, p-value: {adf_result[1]:.3f}\")"
      ]
    },
    {
      "cell_type": "code",
      "execution_count": null,
      "metadata": {
        "colab": {
          "background_save": true,
          "base_uri": "https://localhost:8080/"
        },
        "id": "ZNq_NaZR_TtX",
        "outputId": "70a5c5a6-a324-4cec-9ec4-e3c10b483010"
      },
      "outputs": [
        {
          "name": "stdout",
          "output_type": "stream",
          "text": [
            "<class 'pandas.core.frame.DataFrame'>\n",
            "Int64Index: 5662 entries, 0 to 5734\n",
            "Data columns (total 31 columns):\n",
            " #   Column     Non-Null Count  Dtype  \n",
            "---  ------     --------------  -----  \n",
            " 0   SEQN       5662 non-null   int64  \n",
            " 1   ALQ101     5151 non-null   float64\n",
            " 2   ALQ110     1707 non-null   float64\n",
            " 3   ALQ130     3354 non-null   float64\n",
            " 4   SMQ020     5652 non-null   object \n",
            " 5   RIAGENDR   5662 non-null   object \n",
            " 6   RIDAGEYR   5662 non-null   int64  \n",
            " 7   RIDRETH1   5662 non-null   object \n",
            " 8   DMDCITZN   5661 non-null   float64\n",
            " 9   DMDEDUC2   5662 non-null   float64\n",
            " 10  DMDMARTL   5406 non-null   float64\n",
            " 11  DMDHHSIZ   5662 non-null   int64  \n",
            " 12  WTINT2YR   5662 non-null   float64\n",
            " 13  SDMVPSU    5662 non-null   int64  \n",
            " 14  SDMVSTRA   5662 non-null   int64  \n",
            " 15  INDFMPIR   5069 non-null   float64\n",
            " 16  BPXSY1     5347 non-null   float64\n",
            " 17  BPXDI1     5347 non-null   float64\n",
            " 18  BPXSY2     5478 non-null   float64\n",
            " 19  BPXDI2     5478 non-null   float64\n",
            " 20  BMXWT      5662 non-null   float64\n",
            " 21  BMXHT      5662 non-null   float64\n",
            " 22  BMXBMI     5662 non-null   float64\n",
            " 23  BMXLEG     5338 non-null   float64\n",
            " 24  BMXARML    5413 non-null   float64\n",
            " 25  BMXARMC    5413 non-null   float64\n",
            " 26  BMXWAIST   5359 non-null   float64\n",
            " 27  HIQ210     4666 non-null   float64\n",
            " 28  SMQ020x    0 non-null      object \n",
            " 29  RIAGENDRx  0 non-null      object \n",
            " 30  Race       0 non-null      object \n",
            "dtypes: float64(20), int64(5), object(6)\n",
            "memory usage: 1.4+ MB\n"
          ]
        }
      ],
      "source": [
        "df.info()"
      ]
    },
    {
      "cell_type": "markdown",
      "metadata": {
        "id": "0omMP2ZLXn8R"
      },
      "source": [
        "### **KWIATKOWSKI-PHILLIPS-SCHMIDT-SHIN**\n",
        "Kwiatkowski-Phillips-Schmidt-Shin (KPSS) Test adalah uji statistik yang digunakan untuk menguji apakah suatu seri waktu (time series) stasioner atau tidak stasioner. Uji ini merupakan kebalikan dari Augmented Dickey-Fuller (ADF) Test, yang digunakan untuk menguji keberadaan unit root dalam suatu seri waktu.\n",
        "\n",
        "Dalam KPSS test, hipotesis nol adalah bahwa seri waktu adalah stasioner, sedangkan hipotesis alternatifnya adalah bahwa seri waktu tidak stasioner. Uji ini didasarkan pada statistik pengujian seperti t-statistik, dimana jika nilai p-nilai yang dihasilkan lebih kecil dari tingkat signifikansi yang ditetapkan, maka hipotesis nol ditolak, dan seri waktu dikatakan tidak stasioner.\n",
        "\n",
        "Uji KPSS sangat berguna dalam analisis data deret waktu, karena memungkinkan kita untuk memeriksa apakah suatu data memiliki tren atau tidak. Seri waktu yang tidak stasioner dapat menghasilkan kesalahan dalam analisis deret waktu dan pengembangan model prediksi.\n",
        "* Menguji apakah deret waktu stasioner atau tidak?\n",
        "\n",
        "Asumsi\n",
        "* Pengamatan dalam dipesan secara temporer\n",
        "\n",
        "Penafsiran\n",
        "* H0: deret waktu tidak stasioner tren\n",
        "* H1: deret waktu adalah tren-stasioner"
      ]
    },
    {
      "cell_type": "code",
      "execution_count": null,
      "metadata": {
        "colab": {
          "background_save": true,
          "base_uri": "https://localhost:8080/"
        },
        "id": "HfYJE-hx9mx-",
        "outputId": "320b16bf-6ab3-4fbd-9ed4-072cdef64347"
      },
      "outputs": [
        {
          "name": "stdout",
          "output_type": "stream",
          "text": [
            "Kwiatkowski-Phillips-Schmidt-Shin test statistic: 0.448, p-value: 0.056\n"
          ]
        }
      ],
      "source": [
        "#Kwiatkowski-Phillips-Schmidt-Shin\n",
        "kpss_result = kpss(df['DMDHHSIZ'])\n",
        "print(f\"Kwiatkowski-Phillips-Schmidt-Shin test statistic: {kpss_result[0]:.3f}, p-value: {kpss_result[1]:.3f}\")\n"
      ]
    },
    {
      "cell_type": "markdown",
      "metadata": {
        "id": "QEWof-LhXL0i"
      },
      "source": [
        "## **PARAMETRIC STATISTICAL HYPOTHESIS TEST**\n",
        "* untuk membandingkan parameter populasi antara dua atau lebih kelompok data\n",
        "* didasarkan pada asumsi bahwa data yang diamati mengikuti distribusi tertentu, seperti distribusi normal\n",
        "* uji ini digunakan untuk membandingkan sampel data\n",
        "\n",
        "Uji-t siswa\n",
        "* Menguji apakah rata-rata dari dua sampel independen berbeda secara signifikan?\n",
        "\n",
        "Asumsi\n",
        "* Pengamatan pada setiap sampel bersifat independen dan terdistribusi secara identik (iid)\n",
        "* Pengamatan pada setiap sampel berdistribusi normal\n",
        "* Pengamatan pada setiap sampel memiliki varians yang sama\n",
        "\n",
        "Penafsiran\n",
        "* H0: rata-rata sampel adalah sama\n",
        "* H1: rata-rata sampel tidak sama"
      ]
    },
    {
      "cell_type": "code",
      "execution_count": null,
      "metadata": {
        "colab": {
          "background_save": true
        },
        "id": "V-09F9_BAJhA"
      },
      "outputs": [],
      "source": [
        "# Student's t-test\n",
        "male_bmi = df.loc[df['RIAGENDRx'] == 'Male', 'BMXBMI'].dropna()\n",
        "female_bmi = df.loc[df['RIAGENDRx'] == 'Female', 'BMXBMI'].dropna()"
      ]
    },
    {
      "cell_type": "code",
      "execution_count": null,
      "metadata": {
        "colab": {
          "background_save": true,
          "base_uri": "https://localhost:8080/"
        },
        "id": "mVo-xDF1ARN2",
        "outputId": "aa6caa0c-afc5-45f7-e17c-c7de146ef74a"
      },
      "outputs": [
        {
          "name": "stdout",
          "output_type": "stream",
          "text": [
            "Student's t-test: t = nan, p = nan\n"
          ]
        }
      ],
      "source": [
        "t, p = stats.ttest_ind(male_bmi, female_bmi)\n",
        "print(f\"Student's t-test: t = {t:.3f}, p = {p:.3f}\")"
      ]
    },
    {
      "cell_type": "code",
      "execution_count": null,
      "metadata": {
        "colab": {
          "background_save": true
        },
        "id": "rm5IutxQBTnT"
      },
      "outputs": [],
      "source": [
        "pd.set_option(\"display.max.columns\",None)\n",
        "df_1= pd.read_csv('NHANES.csv')"
      ]
    },
    {
      "cell_type": "code",
      "execution_count": null,
      "metadata": {
        "colab": {
          "background_save": true,
          "base_uri": "https://localhost:8080/",
          "height": 487
        },
        "id": "dmvDy15kCG-G",
        "outputId": "044f822f-0fdf-47a2-e98c-badc0c747be8"
      },
      "outputs": [
        {
          "data": {
            "text/html": [
              "\n",
              "  <div id=\"df-bbf16727-c13f-42ca-a700-c0367fd345e0\">\n",
              "    <div class=\"colab-df-container\">\n",
              "      <div>\n",
              "<style scoped>\n",
              "    .dataframe tbody tr th:only-of-type {\n",
              "        vertical-align: middle;\n",
              "    }\n",
              "\n",
              "    .dataframe tbody tr th {\n",
              "        vertical-align: top;\n",
              "    }\n",
              "\n",
              "    .dataframe thead th {\n",
              "        text-align: right;\n",
              "    }\n",
              "</style>\n",
              "<table border=\"1\" class=\"dataframe\">\n",
              "  <thead>\n",
              "    <tr style=\"text-align: right;\">\n",
              "      <th></th>\n",
              "      <th>SEQN</th>\n",
              "      <th>ALQ101</th>\n",
              "      <th>ALQ110</th>\n",
              "      <th>ALQ130</th>\n",
              "      <th>SMQ020</th>\n",
              "      <th>RIAGENDR</th>\n",
              "      <th>RIDAGEYR</th>\n",
              "      <th>RIDRETH1</th>\n",
              "      <th>DMDCITZN</th>\n",
              "      <th>DMDEDUC2</th>\n",
              "      <th>DMDMARTL</th>\n",
              "      <th>DMDHHSIZ</th>\n",
              "      <th>WTINT2YR</th>\n",
              "      <th>SDMVPSU</th>\n",
              "      <th>SDMVSTRA</th>\n",
              "      <th>INDFMPIR</th>\n",
              "      <th>BPXSY1</th>\n",
              "      <th>BPXDI1</th>\n",
              "      <th>BPXSY2</th>\n",
              "      <th>BPXDI2</th>\n",
              "      <th>BMXWT</th>\n",
              "      <th>BMXHT</th>\n",
              "      <th>BMXBMI</th>\n",
              "      <th>BMXLEG</th>\n",
              "      <th>BMXARML</th>\n",
              "      <th>BMXARMC</th>\n",
              "      <th>BMXWAIST</th>\n",
              "      <th>HIQ210</th>\n",
              "    </tr>\n",
              "  </thead>\n",
              "  <tbody>\n",
              "    <tr>\n",
              "      <th>3</th>\n",
              "      <td>83735</td>\n",
              "      <td>2.0</td>\n",
              "      <td>1.0</td>\n",
              "      <td>1.0</td>\n",
              "      <td>2</td>\n",
              "      <td>2</td>\n",
              "      <td>56</td>\n",
              "      <td>3</td>\n",
              "      <td>1.0</td>\n",
              "      <td>5.0</td>\n",
              "      <td>6.0</td>\n",
              "      <td>1</td>\n",
              "      <td>102718.00</td>\n",
              "      <td>1</td>\n",
              "      <td>131</td>\n",
              "      <td>5.00</td>\n",
              "      <td>132.0</td>\n",
              "      <td>72.0</td>\n",
              "      <td>134.0</td>\n",
              "      <td>68.0</td>\n",
              "      <td>109.8</td>\n",
              "      <td>160.9</td>\n",
              "      <td>42.4</td>\n",
              "      <td>38.5</td>\n",
              "      <td>37.7</td>\n",
              "      <td>38.3</td>\n",
              "      <td>110.1</td>\n",
              "      <td>2.0</td>\n",
              "    </tr>\n",
              "    <tr>\n",
              "      <th>4</th>\n",
              "      <td>83736</td>\n",
              "      <td>2.0</td>\n",
              "      <td>1.0</td>\n",
              "      <td>1.0</td>\n",
              "      <td>2</td>\n",
              "      <td>2</td>\n",
              "      <td>42</td>\n",
              "      <td>4</td>\n",
              "      <td>1.0</td>\n",
              "      <td>4.0</td>\n",
              "      <td>3.0</td>\n",
              "      <td>5</td>\n",
              "      <td>17627.67</td>\n",
              "      <td>2</td>\n",
              "      <td>126</td>\n",
              "      <td>1.23</td>\n",
              "      <td>100.0</td>\n",
              "      <td>70.0</td>\n",
              "      <td>114.0</td>\n",
              "      <td>54.0</td>\n",
              "      <td>55.2</td>\n",
              "      <td>164.9</td>\n",
              "      <td>20.3</td>\n",
              "      <td>37.4</td>\n",
              "      <td>36.0</td>\n",
              "      <td>27.2</td>\n",
              "      <td>80.4</td>\n",
              "      <td>2.0</td>\n",
              "    </tr>\n",
              "    <tr>\n",
              "      <th>5</th>\n",
              "      <td>83737</td>\n",
              "      <td>2.0</td>\n",
              "      <td>2.0</td>\n",
              "      <td>NaN</td>\n",
              "      <td>2</td>\n",
              "      <td>2</td>\n",
              "      <td>72</td>\n",
              "      <td>1</td>\n",
              "      <td>2.0</td>\n",
              "      <td>2.0</td>\n",
              "      <td>4.0</td>\n",
              "      <td>5</td>\n",
              "      <td>11252.31</td>\n",
              "      <td>1</td>\n",
              "      <td>128</td>\n",
              "      <td>2.82</td>\n",
              "      <td>116.0</td>\n",
              "      <td>58.0</td>\n",
              "      <td>122.0</td>\n",
              "      <td>58.0</td>\n",
              "      <td>64.4</td>\n",
              "      <td>150.0</td>\n",
              "      <td>28.6</td>\n",
              "      <td>34.4</td>\n",
              "      <td>33.5</td>\n",
              "      <td>31.4</td>\n",
              "      <td>92.9</td>\n",
              "      <td>NaN</td>\n",
              "    </tr>\n",
              "    <tr>\n",
              "      <th>7</th>\n",
              "      <td>83742</td>\n",
              "      <td>1.0</td>\n",
              "      <td>NaN</td>\n",
              "      <td>1.0</td>\n",
              "      <td>2</td>\n",
              "      <td>2</td>\n",
              "      <td>32</td>\n",
              "      <td>1</td>\n",
              "      <td>2.0</td>\n",
              "      <td>4.0</td>\n",
              "      <td>1.0</td>\n",
              "      <td>4</td>\n",
              "      <td>22744.36</td>\n",
              "      <td>1</td>\n",
              "      <td>125</td>\n",
              "      <td>1.03</td>\n",
              "      <td>120.0</td>\n",
              "      <td>70.0</td>\n",
              "      <td>114.0</td>\n",
              "      <td>70.0</td>\n",
              "      <td>64.5</td>\n",
              "      <td>151.3</td>\n",
              "      <td>28.2</td>\n",
              "      <td>34.1</td>\n",
              "      <td>33.1</td>\n",
              "      <td>31.5</td>\n",
              "      <td>93.3</td>\n",
              "      <td>2.0</td>\n",
              "    </tr>\n",
              "    <tr>\n",
              "      <th>12</th>\n",
              "      <td>83752</td>\n",
              "      <td>1.0</td>\n",
              "      <td>NaN</td>\n",
              "      <td>2.0</td>\n",
              "      <td>1</td>\n",
              "      <td>2</td>\n",
              "      <td>30</td>\n",
              "      <td>2</td>\n",
              "      <td>1.0</td>\n",
              "      <td>4.0</td>\n",
              "      <td>6.0</td>\n",
              "      <td>2</td>\n",
              "      <td>36978.42</td>\n",
              "      <td>1</td>\n",
              "      <td>124</td>\n",
              "      <td>5.00</td>\n",
              "      <td>104.0</td>\n",
              "      <td>50.0</td>\n",
              "      <td>104.0</td>\n",
              "      <td>50.0</td>\n",
              "      <td>71.2</td>\n",
              "      <td>163.6</td>\n",
              "      <td>26.6</td>\n",
              "      <td>37.3</td>\n",
              "      <td>35.7</td>\n",
              "      <td>31.0</td>\n",
              "      <td>90.7</td>\n",
              "      <td>2.0</td>\n",
              "    </tr>\n",
              "    <tr>\n",
              "      <th>...</th>\n",
              "      <td>...</td>\n",
              "      <td>...</td>\n",
              "      <td>...</td>\n",
              "      <td>...</td>\n",
              "      <td>...</td>\n",
              "      <td>...</td>\n",
              "      <td>...</td>\n",
              "      <td>...</td>\n",
              "      <td>...</td>\n",
              "      <td>...</td>\n",
              "      <td>...</td>\n",
              "      <td>...</td>\n",
              "      <td>...</td>\n",
              "      <td>...</td>\n",
              "      <td>...</td>\n",
              "      <td>...</td>\n",
              "      <td>...</td>\n",
              "      <td>...</td>\n",
              "      <td>...</td>\n",
              "      <td>...</td>\n",
              "      <td>...</td>\n",
              "      <td>...</td>\n",
              "      <td>...</td>\n",
              "      <td>...</td>\n",
              "      <td>...</td>\n",
              "      <td>...</td>\n",
              "      <td>...</td>\n",
              "      <td>...</td>\n",
              "    </tr>\n",
              "    <tr>\n",
              "      <th>5724</th>\n",
              "      <td>93682</td>\n",
              "      <td>NaN</td>\n",
              "      <td>NaN</td>\n",
              "      <td>NaN</td>\n",
              "      <td>2</td>\n",
              "      <td>2</td>\n",
              "      <td>41</td>\n",
              "      <td>5</td>\n",
              "      <td>1.0</td>\n",
              "      <td>5.0</td>\n",
              "      <td>1.0</td>\n",
              "      <td>5</td>\n",
              "      <td>23924.20</td>\n",
              "      <td>2</td>\n",
              "      <td>121</td>\n",
              "      <td>5.00</td>\n",
              "      <td>132.0</td>\n",
              "      <td>78.0</td>\n",
              "      <td>122.0</td>\n",
              "      <td>84.0</td>\n",
              "      <td>58.2</td>\n",
              "      <td>166.9</td>\n",
              "      <td>20.9</td>\n",
              "      <td>37.1</td>\n",
              "      <td>35.3</td>\n",
              "      <td>26.9</td>\n",
              "      <td>80.8</td>\n",
              "      <td>2.0</td>\n",
              "    </tr>\n",
              "    <tr>\n",
              "      <th>5727</th>\n",
              "      <td>93689</td>\n",
              "      <td>2.0</td>\n",
              "      <td>1.0</td>\n",
              "      <td>NaN</td>\n",
              "      <td>2</td>\n",
              "      <td>2</td>\n",
              "      <td>69</td>\n",
              "      <td>1</td>\n",
              "      <td>1.0</td>\n",
              "      <td>1.0</td>\n",
              "      <td>1.0</td>\n",
              "      <td>1</td>\n",
              "      <td>9611.19</td>\n",
              "      <td>2</td>\n",
              "      <td>127</td>\n",
              "      <td>0.97</td>\n",
              "      <td>164.0</td>\n",
              "      <td>62.0</td>\n",
              "      <td>166.0</td>\n",
              "      <td>64.0</td>\n",
              "      <td>64.8</td>\n",
              "      <td>151.9</td>\n",
              "      <td>28.1</td>\n",
              "      <td>32.2</td>\n",
              "      <td>32.6</td>\n",
              "      <td>28.7</td>\n",
              "      <td>101.1</td>\n",
              "      <td>2.0</td>\n",
              "    </tr>\n",
              "    <tr>\n",
              "      <th>5730</th>\n",
              "      <td>93695</td>\n",
              "      <td>2.0</td>\n",
              "      <td>2.0</td>\n",
              "      <td>NaN</td>\n",
              "      <td>1</td>\n",
              "      <td>2</td>\n",
              "      <td>76</td>\n",
              "      <td>3</td>\n",
              "      <td>1.0</td>\n",
              "      <td>3.0</td>\n",
              "      <td>2.0</td>\n",
              "      <td>1</td>\n",
              "      <td>58614.08</td>\n",
              "      <td>2</td>\n",
              "      <td>130</td>\n",
              "      <td>1.43</td>\n",
              "      <td>112.0</td>\n",
              "      <td>48.0</td>\n",
              "      <td>112.0</td>\n",
              "      <td>46.0</td>\n",
              "      <td>59.1</td>\n",
              "      <td>165.8</td>\n",
              "      <td>21.5</td>\n",
              "      <td>38.2</td>\n",
              "      <td>37.0</td>\n",
              "      <td>29.5</td>\n",
              "      <td>95.0</td>\n",
              "      <td>2.0</td>\n",
              "    </tr>\n",
              "    <tr>\n",
              "      <th>5732</th>\n",
              "      <td>93697</td>\n",
              "      <td>1.0</td>\n",
              "      <td>NaN</td>\n",
              "      <td>1.0</td>\n",
              "      <td>1</td>\n",
              "      <td>2</td>\n",
              "      <td>80</td>\n",
              "      <td>3</td>\n",
              "      <td>1.0</td>\n",
              "      <td>4.0</td>\n",
              "      <td>2.0</td>\n",
              "      <td>1</td>\n",
              "      <td>49050.06</td>\n",
              "      <td>2</td>\n",
              "      <td>132</td>\n",
              "      <td>2.97</td>\n",
              "      <td>154.0</td>\n",
              "      <td>56.0</td>\n",
              "      <td>146.0</td>\n",
              "      <td>58.0</td>\n",
              "      <td>71.7</td>\n",
              "      <td>152.2</td>\n",
              "      <td>31.0</td>\n",
              "      <td>31.3</td>\n",
              "      <td>37.5</td>\n",
              "      <td>28.8</td>\n",
              "      <td>NaN</td>\n",
              "      <td>2.0</td>\n",
              "    </tr>\n",
              "    <tr>\n",
              "      <th>5734</th>\n",
              "      <td>93702</td>\n",
              "      <td>1.0</td>\n",
              "      <td>NaN</td>\n",
              "      <td>2.0</td>\n",
              "      <td>2</td>\n",
              "      <td>2</td>\n",
              "      <td>24</td>\n",
              "      <td>3</td>\n",
              "      <td>1.0</td>\n",
              "      <td>5.0</td>\n",
              "      <td>5.0</td>\n",
              "      <td>3</td>\n",
              "      <td>107361.91</td>\n",
              "      <td>2</td>\n",
              "      <td>119</td>\n",
              "      <td>3.54</td>\n",
              "      <td>118.0</td>\n",
              "      <td>66.0</td>\n",
              "      <td>114.0</td>\n",
              "      <td>68.0</td>\n",
              "      <td>58.3</td>\n",
              "      <td>165.0</td>\n",
              "      <td>21.4</td>\n",
              "      <td>38.2</td>\n",
              "      <td>33.5</td>\n",
              "      <td>26.2</td>\n",
              "      <td>72.5</td>\n",
              "      <td>2.0</td>\n",
              "    </tr>\n",
              "  </tbody>\n",
              "</table>\n",
              "<p>2976 rows × 28 columns</p>\n",
              "</div>\n",
              "      <button class=\"colab-df-convert\" onclick=\"convertToInteractive('df-bbf16727-c13f-42ca-a700-c0367fd345e0')\"\n",
              "              title=\"Convert this dataframe to an interactive table.\"\n",
              "              style=\"display:none;\">\n",
              "        \n",
              "  <svg xmlns=\"http://www.w3.org/2000/svg\" height=\"24px\"viewBox=\"0 0 24 24\"\n",
              "       width=\"24px\">\n",
              "    <path d=\"M0 0h24v24H0V0z\" fill=\"none\"/>\n",
              "    <path d=\"M18.56 5.44l.94 2.06.94-2.06 2.06-.94-2.06-.94-.94-2.06-.94 2.06-2.06.94zm-11 1L8.5 8.5l.94-2.06 2.06-.94-2.06-.94L8.5 2.5l-.94 2.06-2.06.94zm10 10l.94 2.06.94-2.06 2.06-.94-2.06-.94-.94-2.06-.94 2.06-2.06.94z\"/><path d=\"M17.41 7.96l-1.37-1.37c-.4-.4-.92-.59-1.43-.59-.52 0-1.04.2-1.43.59L10.3 9.45l-7.72 7.72c-.78.78-.78 2.05 0 2.83L4 21.41c.39.39.9.59 1.41.59.51 0 1.02-.2 1.41-.59l7.78-7.78 2.81-2.81c.8-.78.8-2.07 0-2.86zM5.41 20L4 18.59l7.72-7.72 1.47 1.35L5.41 20z\"/>\n",
              "  </svg>\n",
              "      </button>\n",
              "      \n",
              "  <style>\n",
              "    .colab-df-container {\n",
              "      display:flex;\n",
              "      flex-wrap:wrap;\n",
              "      gap: 12px;\n",
              "    }\n",
              "\n",
              "    .colab-df-convert {\n",
              "      background-color: #E8F0FE;\n",
              "      border: none;\n",
              "      border-radius: 50%;\n",
              "      cursor: pointer;\n",
              "      display: none;\n",
              "      fill: #1967D2;\n",
              "      height: 32px;\n",
              "      padding: 0 0 0 0;\n",
              "      width: 32px;\n",
              "    }\n",
              "\n",
              "    .colab-df-convert:hover {\n",
              "      background-color: #E2EBFA;\n",
              "      box-shadow: 0px 1px 2px rgba(60, 64, 67, 0.3), 0px 1px 3px 1px rgba(60, 64, 67, 0.15);\n",
              "      fill: #174EA6;\n",
              "    }\n",
              "\n",
              "    [theme=dark] .colab-df-convert {\n",
              "      background-color: #3B4455;\n",
              "      fill: #D2E3FC;\n",
              "    }\n",
              "\n",
              "    [theme=dark] .colab-df-convert:hover {\n",
              "      background-color: #434B5C;\n",
              "      box-shadow: 0px 1px 3px 1px rgba(0, 0, 0, 0.15);\n",
              "      filter: drop-shadow(0px 1px 2px rgba(0, 0, 0, 0.3));\n",
              "      fill: #FFFFFF;\n",
              "    }\n",
              "  </style>\n",
              "\n",
              "      <script>\n",
              "        const buttonEl =\n",
              "          document.querySelector('#df-bbf16727-c13f-42ca-a700-c0367fd345e0 button.colab-df-convert');\n",
              "        buttonEl.style.display =\n",
              "          google.colab.kernel.accessAllowed ? 'block' : 'none';\n",
              "\n",
              "        async function convertToInteractive(key) {\n",
              "          const element = document.querySelector('#df-bbf16727-c13f-42ca-a700-c0367fd345e0');\n",
              "          const dataTable =\n",
              "            await google.colab.kernel.invokeFunction('convertToInteractive',\n",
              "                                                     [key], {});\n",
              "          if (!dataTable) return;\n",
              "\n",
              "          const docLinkHtml = 'Like what you see? Visit the ' +\n",
              "            '<a target=\"_blank\" href=https://colab.research.google.com/notebooks/data_table.ipynb>data table notebook</a>'\n",
              "            + ' to learn more about interactive tables.';\n",
              "          element.innerHTML = '';\n",
              "          dataTable['output_type'] = 'display_data';\n",
              "          await google.colab.output.renderOutput(dataTable, element);\n",
              "          const docLink = document.createElement('div');\n",
              "          docLink.innerHTML = docLinkHtml;\n",
              "          element.appendChild(docLink);\n",
              "        }\n",
              "      </script>\n",
              "    </div>\n",
              "  </div>\n",
              "  "
            ],
            "text/plain": [
              "       SEQN  ALQ101  ALQ110  ALQ130  SMQ020  RIAGENDR  RIDAGEYR  RIDRETH1  \\\n",
              "3     83735     2.0     1.0     1.0       2         2        56         3   \n",
              "4     83736     2.0     1.0     1.0       2         2        42         4   \n",
              "5     83737     2.0     2.0     NaN       2         2        72         1   \n",
              "7     83742     1.0     NaN     1.0       2         2        32         1   \n",
              "12    83752     1.0     NaN     2.0       1         2        30         2   \n",
              "...     ...     ...     ...     ...     ...       ...       ...       ...   \n",
              "5724  93682     NaN     NaN     NaN       2         2        41         5   \n",
              "5727  93689     2.0     1.0     NaN       2         2        69         1   \n",
              "5730  93695     2.0     2.0     NaN       1         2        76         3   \n",
              "5732  93697     1.0     NaN     1.0       1         2        80         3   \n",
              "5734  93702     1.0     NaN     2.0       2         2        24         3   \n",
              "\n",
              "      DMDCITZN  DMDEDUC2  DMDMARTL  DMDHHSIZ   WTINT2YR  SDMVPSU  SDMVSTRA  \\\n",
              "3          1.0       5.0       6.0         1  102718.00        1       131   \n",
              "4          1.0       4.0       3.0         5   17627.67        2       126   \n",
              "5          2.0       2.0       4.0         5   11252.31        1       128   \n",
              "7          2.0       4.0       1.0         4   22744.36        1       125   \n",
              "12         1.0       4.0       6.0         2   36978.42        1       124   \n",
              "...        ...       ...       ...       ...        ...      ...       ...   \n",
              "5724       1.0       5.0       1.0         5   23924.20        2       121   \n",
              "5727       1.0       1.0       1.0         1    9611.19        2       127   \n",
              "5730       1.0       3.0       2.0         1   58614.08        2       130   \n",
              "5732       1.0       4.0       2.0         1   49050.06        2       132   \n",
              "5734       1.0       5.0       5.0         3  107361.91        2       119   \n",
              "\n",
              "      INDFMPIR  BPXSY1  BPXDI1  BPXSY2  BPXDI2  BMXWT  BMXHT  BMXBMI  BMXLEG  \\\n",
              "3         5.00   132.0    72.0   134.0    68.0  109.8  160.9    42.4    38.5   \n",
              "4         1.23   100.0    70.0   114.0    54.0   55.2  164.9    20.3    37.4   \n",
              "5         2.82   116.0    58.0   122.0    58.0   64.4  150.0    28.6    34.4   \n",
              "7         1.03   120.0    70.0   114.0    70.0   64.5  151.3    28.2    34.1   \n",
              "12        5.00   104.0    50.0   104.0    50.0   71.2  163.6    26.6    37.3   \n",
              "...        ...     ...     ...     ...     ...    ...    ...     ...     ...   \n",
              "5724      5.00   132.0    78.0   122.0    84.0   58.2  166.9    20.9    37.1   \n",
              "5727      0.97   164.0    62.0   166.0    64.0   64.8  151.9    28.1    32.2   \n",
              "5730      1.43   112.0    48.0   112.0    46.0   59.1  165.8    21.5    38.2   \n",
              "5732      2.97   154.0    56.0   146.0    58.0   71.7  152.2    31.0    31.3   \n",
              "5734      3.54   118.0    66.0   114.0    68.0   58.3  165.0    21.4    38.2   \n",
              "\n",
              "      BMXARML  BMXARMC  BMXWAIST  HIQ210  \n",
              "3        37.7     38.3     110.1     2.0  \n",
              "4        36.0     27.2      80.4     2.0  \n",
              "5        33.5     31.4      92.9     NaN  \n",
              "7        33.1     31.5      93.3     2.0  \n",
              "12       35.7     31.0      90.7     2.0  \n",
              "...       ...      ...       ...     ...  \n",
              "5724     35.3     26.9      80.8     2.0  \n",
              "5727     32.6     28.7     101.1     2.0  \n",
              "5730     37.0     29.5      95.0     2.0  \n",
              "5732     37.5     28.8       NaN     2.0  \n",
              "5734     33.5     26.2      72.5     2.0  \n",
              "\n",
              "[2976 rows x 28 columns]"
            ]
          },
          "execution_count": 48,
          "metadata": {},
          "output_type": "execute_result"
        }
      ],
      "source": [
        "females = df_1[df_1.RIAGENDR==2]\n",
        "females"
      ]
    },
    {
      "cell_type": "code",
      "execution_count": null,
      "metadata": {
        "colab": {
          "background_save": true,
          "base_uri": "https://localhost:8080/",
          "height": 487
        },
        "id": "TvA5-ohJCNz-",
        "outputId": "46c24e90-d7c7-4581-b042-1693b99162df"
      },
      "outputs": [
        {
          "data": {
            "text/html": [
              "\n",
              "  <div id=\"df-e1687e43-e2de-42f8-b82b-c0a36df6cd75\">\n",
              "    <div class=\"colab-df-container\">\n",
              "      <div>\n",
              "<style scoped>\n",
              "    .dataframe tbody tr th:only-of-type {\n",
              "        vertical-align: middle;\n",
              "    }\n",
              "\n",
              "    .dataframe tbody tr th {\n",
              "        vertical-align: top;\n",
              "    }\n",
              "\n",
              "    .dataframe thead th {\n",
              "        text-align: right;\n",
              "    }\n",
              "</style>\n",
              "<table border=\"1\" class=\"dataframe\">\n",
              "  <thead>\n",
              "    <tr style=\"text-align: right;\">\n",
              "      <th></th>\n",
              "      <th>SEQN</th>\n",
              "      <th>ALQ101</th>\n",
              "      <th>ALQ110</th>\n",
              "      <th>ALQ130</th>\n",
              "      <th>SMQ020</th>\n",
              "      <th>RIAGENDR</th>\n",
              "      <th>RIDAGEYR</th>\n",
              "      <th>RIDRETH1</th>\n",
              "      <th>DMDCITZN</th>\n",
              "      <th>DMDEDUC2</th>\n",
              "      <th>DMDMARTL</th>\n",
              "      <th>DMDHHSIZ</th>\n",
              "      <th>WTINT2YR</th>\n",
              "      <th>SDMVPSU</th>\n",
              "      <th>SDMVSTRA</th>\n",
              "      <th>INDFMPIR</th>\n",
              "      <th>BPXSY1</th>\n",
              "      <th>BPXDI1</th>\n",
              "      <th>BPXSY2</th>\n",
              "      <th>BPXDI2</th>\n",
              "      <th>BMXWT</th>\n",
              "      <th>BMXHT</th>\n",
              "      <th>BMXBMI</th>\n",
              "      <th>BMXLEG</th>\n",
              "      <th>BMXARML</th>\n",
              "      <th>BMXARMC</th>\n",
              "      <th>BMXWAIST</th>\n",
              "      <th>HIQ210</th>\n",
              "    </tr>\n",
              "  </thead>\n",
              "  <tbody>\n",
              "    <tr>\n",
              "      <th>0</th>\n",
              "      <td>83732</td>\n",
              "      <td>1.0</td>\n",
              "      <td>NaN</td>\n",
              "      <td>1.0</td>\n",
              "      <td>1</td>\n",
              "      <td>1</td>\n",
              "      <td>62</td>\n",
              "      <td>3</td>\n",
              "      <td>1.0</td>\n",
              "      <td>5.0</td>\n",
              "      <td>1.0</td>\n",
              "      <td>2</td>\n",
              "      <td>134671.37</td>\n",
              "      <td>1</td>\n",
              "      <td>125</td>\n",
              "      <td>4.39</td>\n",
              "      <td>128.0</td>\n",
              "      <td>70.0</td>\n",
              "      <td>124.0</td>\n",
              "      <td>64.0</td>\n",
              "      <td>94.8</td>\n",
              "      <td>184.5</td>\n",
              "      <td>27.8</td>\n",
              "      <td>43.3</td>\n",
              "      <td>43.6</td>\n",
              "      <td>35.9</td>\n",
              "      <td>101.1</td>\n",
              "      <td>2.0</td>\n",
              "    </tr>\n",
              "    <tr>\n",
              "      <th>1</th>\n",
              "      <td>83733</td>\n",
              "      <td>1.0</td>\n",
              "      <td>NaN</td>\n",
              "      <td>6.0</td>\n",
              "      <td>1</td>\n",
              "      <td>1</td>\n",
              "      <td>53</td>\n",
              "      <td>3</td>\n",
              "      <td>2.0</td>\n",
              "      <td>3.0</td>\n",
              "      <td>3.0</td>\n",
              "      <td>1</td>\n",
              "      <td>24328.56</td>\n",
              "      <td>1</td>\n",
              "      <td>125</td>\n",
              "      <td>1.32</td>\n",
              "      <td>146.0</td>\n",
              "      <td>88.0</td>\n",
              "      <td>140.0</td>\n",
              "      <td>88.0</td>\n",
              "      <td>90.4</td>\n",
              "      <td>171.4</td>\n",
              "      <td>30.8</td>\n",
              "      <td>38.0</td>\n",
              "      <td>40.0</td>\n",
              "      <td>33.2</td>\n",
              "      <td>107.9</td>\n",
              "      <td>NaN</td>\n",
              "    </tr>\n",
              "    <tr>\n",
              "      <th>2</th>\n",
              "      <td>83734</td>\n",
              "      <td>1.0</td>\n",
              "      <td>NaN</td>\n",
              "      <td>NaN</td>\n",
              "      <td>1</td>\n",
              "      <td>1</td>\n",
              "      <td>78</td>\n",
              "      <td>3</td>\n",
              "      <td>1.0</td>\n",
              "      <td>3.0</td>\n",
              "      <td>1.0</td>\n",
              "      <td>2</td>\n",
              "      <td>12400.01</td>\n",
              "      <td>1</td>\n",
              "      <td>131</td>\n",
              "      <td>1.51</td>\n",
              "      <td>138.0</td>\n",
              "      <td>46.0</td>\n",
              "      <td>132.0</td>\n",
              "      <td>44.0</td>\n",
              "      <td>83.4</td>\n",
              "      <td>170.1</td>\n",
              "      <td>28.8</td>\n",
              "      <td>35.6</td>\n",
              "      <td>37.0</td>\n",
              "      <td>31.0</td>\n",
              "      <td>116.5</td>\n",
              "      <td>2.0</td>\n",
              "    </tr>\n",
              "    <tr>\n",
              "      <th>6</th>\n",
              "      <td>83741</td>\n",
              "      <td>1.0</td>\n",
              "      <td>NaN</td>\n",
              "      <td>8.0</td>\n",
              "      <td>1</td>\n",
              "      <td>1</td>\n",
              "      <td>22</td>\n",
              "      <td>4</td>\n",
              "      <td>1.0</td>\n",
              "      <td>4.0</td>\n",
              "      <td>5.0</td>\n",
              "      <td>3</td>\n",
              "      <td>37043.09</td>\n",
              "      <td>2</td>\n",
              "      <td>128</td>\n",
              "      <td>2.08</td>\n",
              "      <td>110.0</td>\n",
              "      <td>70.0</td>\n",
              "      <td>112.0</td>\n",
              "      <td>74.0</td>\n",
              "      <td>76.6</td>\n",
              "      <td>165.4</td>\n",
              "      <td>28.0</td>\n",
              "      <td>38.8</td>\n",
              "      <td>38.0</td>\n",
              "      <td>34.0</td>\n",
              "      <td>86.6</td>\n",
              "      <td>NaN</td>\n",
              "    </tr>\n",
              "    <tr>\n",
              "      <th>8</th>\n",
              "      <td>83743</td>\n",
              "      <td>NaN</td>\n",
              "      <td>NaN</td>\n",
              "      <td>NaN</td>\n",
              "      <td>2</td>\n",
              "      <td>1</td>\n",
              "      <td>18</td>\n",
              "      <td>5</td>\n",
              "      <td>1.0</td>\n",
              "      <td>NaN</td>\n",
              "      <td>NaN</td>\n",
              "      <td>3</td>\n",
              "      <td>18526.16</td>\n",
              "      <td>2</td>\n",
              "      <td>122</td>\n",
              "      <td>5.00</td>\n",
              "      <td>NaN</td>\n",
              "      <td>NaN</td>\n",
              "      <td>NaN</td>\n",
              "      <td>NaN</td>\n",
              "      <td>72.4</td>\n",
              "      <td>166.1</td>\n",
              "      <td>26.2</td>\n",
              "      <td>NaN</td>\n",
              "      <td>NaN</td>\n",
              "      <td>NaN</td>\n",
              "      <td>NaN</td>\n",
              "      <td>2.0</td>\n",
              "    </tr>\n",
              "    <tr>\n",
              "      <th>...</th>\n",
              "      <td>...</td>\n",
              "      <td>...</td>\n",
              "      <td>...</td>\n",
              "      <td>...</td>\n",
              "      <td>...</td>\n",
              "      <td>...</td>\n",
              "      <td>...</td>\n",
              "      <td>...</td>\n",
              "      <td>...</td>\n",
              "      <td>...</td>\n",
              "      <td>...</td>\n",
              "      <td>...</td>\n",
              "      <td>...</td>\n",
              "      <td>...</td>\n",
              "      <td>...</td>\n",
              "      <td>...</td>\n",
              "      <td>...</td>\n",
              "      <td>...</td>\n",
              "      <td>...</td>\n",
              "      <td>...</td>\n",
              "      <td>...</td>\n",
              "      <td>...</td>\n",
              "      <td>...</td>\n",
              "      <td>...</td>\n",
              "      <td>...</td>\n",
              "      <td>...</td>\n",
              "      <td>...</td>\n",
              "      <td>...</td>\n",
              "    </tr>\n",
              "    <tr>\n",
              "      <th>5726</th>\n",
              "      <td>93685</td>\n",
              "      <td>1.0</td>\n",
              "      <td>NaN</td>\n",
              "      <td>2.0</td>\n",
              "      <td>1</td>\n",
              "      <td>1</td>\n",
              "      <td>53</td>\n",
              "      <td>1</td>\n",
              "      <td>2.0</td>\n",
              "      <td>2.0</td>\n",
              "      <td>1.0</td>\n",
              "      <td>5</td>\n",
              "      <td>22441.86</td>\n",
              "      <td>1</td>\n",
              "      <td>126</td>\n",
              "      <td>0.49</td>\n",
              "      <td>132.0</td>\n",
              "      <td>54.0</td>\n",
              "      <td>128.0</td>\n",
              "      <td>56.0</td>\n",
              "      <td>78.7</td>\n",
              "      <td>156.9</td>\n",
              "      <td>32.0</td>\n",
              "      <td>31.5</td>\n",
              "      <td>38.0</td>\n",
              "      <td>33.7</td>\n",
              "      <td>107.5</td>\n",
              "      <td>2.0</td>\n",
              "    </tr>\n",
              "    <tr>\n",
              "      <th>5728</th>\n",
              "      <td>93690</td>\n",
              "      <td>1.0</td>\n",
              "      <td>NaN</td>\n",
              "      <td>3.0</td>\n",
              "      <td>2</td>\n",
              "      <td>1</td>\n",
              "      <td>32</td>\n",
              "      <td>2</td>\n",
              "      <td>1.0</td>\n",
              "      <td>2.0</td>\n",
              "      <td>1.0</td>\n",
              "      <td>4</td>\n",
              "      <td>43971.60</td>\n",
              "      <td>2</td>\n",
              "      <td>127</td>\n",
              "      <td>5.00</td>\n",
              "      <td>112.0</td>\n",
              "      <td>60.0</td>\n",
              "      <td>118.0</td>\n",
              "      <td>58.0</td>\n",
              "      <td>89.5</td>\n",
              "      <td>164.9</td>\n",
              "      <td>32.9</td>\n",
              "      <td>40.0</td>\n",
              "      <td>38.0</td>\n",
              "      <td>39.0</td>\n",
              "      <td>101.0</td>\n",
              "      <td>2.0</td>\n",
              "    </tr>\n",
              "    <tr>\n",
              "      <th>5729</th>\n",
              "      <td>93691</td>\n",
              "      <td>2.0</td>\n",
              "      <td>2.0</td>\n",
              "      <td>NaN</td>\n",
              "      <td>2</td>\n",
              "      <td>1</td>\n",
              "      <td>25</td>\n",
              "      <td>5</td>\n",
              "      <td>2.0</td>\n",
              "      <td>5.0</td>\n",
              "      <td>5.0</td>\n",
              "      <td>7</td>\n",
              "      <td>13525.39</td>\n",
              "      <td>2</td>\n",
              "      <td>133</td>\n",
              "      <td>1.59</td>\n",
              "      <td>112.0</td>\n",
              "      <td>80.0</td>\n",
              "      <td>112.0</td>\n",
              "      <td>76.0</td>\n",
              "      <td>39.2</td>\n",
              "      <td>136.5</td>\n",
              "      <td>21.0</td>\n",
              "      <td>33.6</td>\n",
              "      <td>29.7</td>\n",
              "      <td>23.8</td>\n",
              "      <td>75.4</td>\n",
              "      <td>2.0</td>\n",
              "    </tr>\n",
              "    <tr>\n",
              "      <th>5731</th>\n",
              "      <td>93696</td>\n",
              "      <td>2.0</td>\n",
              "      <td>2.0</td>\n",
              "      <td>NaN</td>\n",
              "      <td>2</td>\n",
              "      <td>1</td>\n",
              "      <td>26</td>\n",
              "      <td>3</td>\n",
              "      <td>1.0</td>\n",
              "      <td>5.0</td>\n",
              "      <td>1.0</td>\n",
              "      <td>3</td>\n",
              "      <td>122920.60</td>\n",
              "      <td>1</td>\n",
              "      <td>121</td>\n",
              "      <td>2.99</td>\n",
              "      <td>118.0</td>\n",
              "      <td>68.0</td>\n",
              "      <td>116.0</td>\n",
              "      <td>76.0</td>\n",
              "      <td>112.1</td>\n",
              "      <td>182.2</td>\n",
              "      <td>33.8</td>\n",
              "      <td>43.4</td>\n",
              "      <td>41.8</td>\n",
              "      <td>42.3</td>\n",
              "      <td>110.2</td>\n",
              "      <td>2.0</td>\n",
              "    </tr>\n",
              "    <tr>\n",
              "      <th>5733</th>\n",
              "      <td>93700</td>\n",
              "      <td>NaN</td>\n",
              "      <td>NaN</td>\n",
              "      <td>NaN</td>\n",
              "      <td>1</td>\n",
              "      <td>1</td>\n",
              "      <td>35</td>\n",
              "      <td>3</td>\n",
              "      <td>2.0</td>\n",
              "      <td>1.0</td>\n",
              "      <td>1.0</td>\n",
              "      <td>5</td>\n",
              "      <td>42314.29</td>\n",
              "      <td>1</td>\n",
              "      <td>126</td>\n",
              "      <td>0.00</td>\n",
              "      <td>104.0</td>\n",
              "      <td>62.0</td>\n",
              "      <td>106.0</td>\n",
              "      <td>66.0</td>\n",
              "      <td>78.2</td>\n",
              "      <td>173.3</td>\n",
              "      <td>26.0</td>\n",
              "      <td>40.3</td>\n",
              "      <td>37.5</td>\n",
              "      <td>30.6</td>\n",
              "      <td>98.9</td>\n",
              "      <td>2.0</td>\n",
              "    </tr>\n",
              "  </tbody>\n",
              "</table>\n",
              "<p>2759 rows × 28 columns</p>\n",
              "</div>\n",
              "      <button class=\"colab-df-convert\" onclick=\"convertToInteractive('df-e1687e43-e2de-42f8-b82b-c0a36df6cd75')\"\n",
              "              title=\"Convert this dataframe to an interactive table.\"\n",
              "              style=\"display:none;\">\n",
              "        \n",
              "  <svg xmlns=\"http://www.w3.org/2000/svg\" height=\"24px\"viewBox=\"0 0 24 24\"\n",
              "       width=\"24px\">\n",
              "    <path d=\"M0 0h24v24H0V0z\" fill=\"none\"/>\n",
              "    <path d=\"M18.56 5.44l.94 2.06.94-2.06 2.06-.94-2.06-.94-.94-2.06-.94 2.06-2.06.94zm-11 1L8.5 8.5l.94-2.06 2.06-.94-2.06-.94L8.5 2.5l-.94 2.06-2.06.94zm10 10l.94 2.06.94-2.06 2.06-.94-2.06-.94-.94-2.06-.94 2.06-2.06.94z\"/><path d=\"M17.41 7.96l-1.37-1.37c-.4-.4-.92-.59-1.43-.59-.52 0-1.04.2-1.43.59L10.3 9.45l-7.72 7.72c-.78.78-.78 2.05 0 2.83L4 21.41c.39.39.9.59 1.41.59.51 0 1.02-.2 1.41-.59l7.78-7.78 2.81-2.81c.8-.78.8-2.07 0-2.86zM5.41 20L4 18.59l7.72-7.72 1.47 1.35L5.41 20z\"/>\n",
              "  </svg>\n",
              "      </button>\n",
              "      \n",
              "  <style>\n",
              "    .colab-df-container {\n",
              "      display:flex;\n",
              "      flex-wrap:wrap;\n",
              "      gap: 12px;\n",
              "    }\n",
              "\n",
              "    .colab-df-convert {\n",
              "      background-color: #E8F0FE;\n",
              "      border: none;\n",
              "      border-radius: 50%;\n",
              "      cursor: pointer;\n",
              "      display: none;\n",
              "      fill: #1967D2;\n",
              "      height: 32px;\n",
              "      padding: 0 0 0 0;\n",
              "      width: 32px;\n",
              "    }\n",
              "\n",
              "    .colab-df-convert:hover {\n",
              "      background-color: #E2EBFA;\n",
              "      box-shadow: 0px 1px 2px rgba(60, 64, 67, 0.3), 0px 1px 3px 1px rgba(60, 64, 67, 0.15);\n",
              "      fill: #174EA6;\n",
              "    }\n",
              "\n",
              "    [theme=dark] .colab-df-convert {\n",
              "      background-color: #3B4455;\n",
              "      fill: #D2E3FC;\n",
              "    }\n",
              "\n",
              "    [theme=dark] .colab-df-convert:hover {\n",
              "      background-color: #434B5C;\n",
              "      box-shadow: 0px 1px 3px 1px rgba(0, 0, 0, 0.15);\n",
              "      filter: drop-shadow(0px 1px 2px rgba(0, 0, 0, 0.3));\n",
              "      fill: #FFFFFF;\n",
              "    }\n",
              "  </style>\n",
              "\n",
              "      <script>\n",
              "        const buttonEl =\n",
              "          document.querySelector('#df-e1687e43-e2de-42f8-b82b-c0a36df6cd75 button.colab-df-convert');\n",
              "        buttonEl.style.display =\n",
              "          google.colab.kernel.accessAllowed ? 'block' : 'none';\n",
              "\n",
              "        async function convertToInteractive(key) {\n",
              "          const element = document.querySelector('#df-e1687e43-e2de-42f8-b82b-c0a36df6cd75');\n",
              "          const dataTable =\n",
              "            await google.colab.kernel.invokeFunction('convertToInteractive',\n",
              "                                                     [key], {});\n",
              "          if (!dataTable) return;\n",
              "\n",
              "          const docLinkHtml = 'Like what you see? Visit the ' +\n",
              "            '<a target=\"_blank\" href=https://colab.research.google.com/notebooks/data_table.ipynb>data table notebook</a>'\n",
              "            + ' to learn more about interactive tables.';\n",
              "          element.innerHTML = '';\n",
              "          dataTable['output_type'] = 'display_data';\n",
              "          await google.colab.output.renderOutput(dataTable, element);\n",
              "          const docLink = document.createElement('div');\n",
              "          docLink.innerHTML = docLinkHtml;\n",
              "          element.appendChild(docLink);\n",
              "        }\n",
              "      </script>\n",
              "    </div>\n",
              "  </div>\n",
              "  "
            ],
            "text/plain": [
              "       SEQN  ALQ101  ALQ110  ALQ130  SMQ020  RIAGENDR  RIDAGEYR  RIDRETH1  \\\n",
              "0     83732     1.0     NaN     1.0       1         1        62         3   \n",
              "1     83733     1.0     NaN     6.0       1         1        53         3   \n",
              "2     83734     1.0     NaN     NaN       1         1        78         3   \n",
              "6     83741     1.0     NaN     8.0       1         1        22         4   \n",
              "8     83743     NaN     NaN     NaN       2         1        18         5   \n",
              "...     ...     ...     ...     ...     ...       ...       ...       ...   \n",
              "5726  93685     1.0     NaN     2.0       1         1        53         1   \n",
              "5728  93690     1.0     NaN     3.0       2         1        32         2   \n",
              "5729  93691     2.0     2.0     NaN       2         1        25         5   \n",
              "5731  93696     2.0     2.0     NaN       2         1        26         3   \n",
              "5733  93700     NaN     NaN     NaN       1         1        35         3   \n",
              "\n",
              "      DMDCITZN  DMDEDUC2  DMDMARTL  DMDHHSIZ   WTINT2YR  SDMVPSU  SDMVSTRA  \\\n",
              "0          1.0       5.0       1.0         2  134671.37        1       125   \n",
              "1          2.0       3.0       3.0         1   24328.56        1       125   \n",
              "2          1.0       3.0       1.0         2   12400.01        1       131   \n",
              "6          1.0       4.0       5.0         3   37043.09        2       128   \n",
              "8          1.0       NaN       NaN         3   18526.16        2       122   \n",
              "...        ...       ...       ...       ...        ...      ...       ...   \n",
              "5726       2.0       2.0       1.0         5   22441.86        1       126   \n",
              "5728       1.0       2.0       1.0         4   43971.60        2       127   \n",
              "5729       2.0       5.0       5.0         7   13525.39        2       133   \n",
              "5731       1.0       5.0       1.0         3  122920.60        1       121   \n",
              "5733       2.0       1.0       1.0         5   42314.29        1       126   \n",
              "\n",
              "      INDFMPIR  BPXSY1  BPXDI1  BPXSY2  BPXDI2  BMXWT  BMXHT  BMXBMI  BMXLEG  \\\n",
              "0         4.39   128.0    70.0   124.0    64.0   94.8  184.5    27.8    43.3   \n",
              "1         1.32   146.0    88.0   140.0    88.0   90.4  171.4    30.8    38.0   \n",
              "2         1.51   138.0    46.0   132.0    44.0   83.4  170.1    28.8    35.6   \n",
              "6         2.08   110.0    70.0   112.0    74.0   76.6  165.4    28.0    38.8   \n",
              "8         5.00     NaN     NaN     NaN     NaN   72.4  166.1    26.2     NaN   \n",
              "...        ...     ...     ...     ...     ...    ...    ...     ...     ...   \n",
              "5726      0.49   132.0    54.0   128.0    56.0   78.7  156.9    32.0    31.5   \n",
              "5728      5.00   112.0    60.0   118.0    58.0   89.5  164.9    32.9    40.0   \n",
              "5729      1.59   112.0    80.0   112.0    76.0   39.2  136.5    21.0    33.6   \n",
              "5731      2.99   118.0    68.0   116.0    76.0  112.1  182.2    33.8    43.4   \n",
              "5733      0.00   104.0    62.0   106.0    66.0   78.2  173.3    26.0    40.3   \n",
              "\n",
              "      BMXARML  BMXARMC  BMXWAIST  HIQ210  \n",
              "0        43.6     35.9     101.1     2.0  \n",
              "1        40.0     33.2     107.9     NaN  \n",
              "2        37.0     31.0     116.5     2.0  \n",
              "6        38.0     34.0      86.6     NaN  \n",
              "8         NaN      NaN       NaN     2.0  \n",
              "...       ...      ...       ...     ...  \n",
              "5726     38.0     33.7     107.5     2.0  \n",
              "5728     38.0     39.0     101.0     2.0  \n",
              "5729     29.7     23.8      75.4     2.0  \n",
              "5731     41.8     42.3     110.2     2.0  \n",
              "5733     37.5     30.6      98.9     2.0  \n",
              "\n",
              "[2759 rows x 28 columns]"
            ]
          },
          "execution_count": 49,
          "metadata": {},
          "output_type": "execute_result"
        }
      ],
      "source": [
        "males = df_1[df_1.RIAGENDR==1]\n",
        "males"
      ]
    },
    {
      "cell_type": "code",
      "execution_count": null,
      "metadata": {
        "colab": {
          "background_save": true,
          "base_uri": "https://localhost:8080/"
        },
        "id": "fBzCZzhZCOxP",
        "outputId": "c543f346-bfc9-4440-87ae-ee6a738a8844"
      },
      "outputs": [
        {
          "data": {
            "text/plain": [
              "41"
            ]
          },
          "execution_count": 50,
          "metadata": {},
          "output_type": "execute_result"
        }
      ],
      "source": [
        "# check missing values\n",
        "females.BMXBMI.isna().sum()\n",
        "males.BMXBMI.isna().sum()"
      ]
    },
    {
      "cell_type": "code",
      "execution_count": null,
      "metadata": {
        "colab": {
          "background_save": true,
          "base_uri": "https://localhost:8080/"
        },
        "id": "UwU4ggqhCYxd",
        "outputId": "92eb7344-33dc-479e-91df-3ad534d63bb7"
      },
      "outputs": [
        {
          "data": {
            "text/plain": [
              "3       42.4\n",
              "4       20.3\n",
              "5       28.6\n",
              "7       28.2\n",
              "12      26.6\n",
              "        ... \n",
              "5724    20.9\n",
              "5727    28.1\n",
              "5730    21.5\n",
              "5732    31.0\n",
              "5734    21.4\n",
              "Name: BMXBMI, Length: 2944, dtype: float64"
            ]
          },
          "execution_count": 51,
          "metadata": {},
          "output_type": "execute_result"
        }
      ],
      "source": [
        "# drop missing values\n",
        "females['BMXBMI'].dropna()"
      ]
    },
    {
      "cell_type": "code",
      "execution_count": null,
      "metadata": {
        "colab": {
          "background_save": true,
          "base_uri": "https://localhost:8080/",
          "height": 363
        },
        "id": "t6impcXFCbRp",
        "outputId": "fdd6fa30-14d5-40eb-b47c-fb7740bccac7"
      },
      "outputs": [
        {
          "data": {
            "text/html": [
              "\n",
              "  <div id=\"df-e6801a37-4508-4737-9494-df45ba96288e\">\n",
              "    <div class=\"colab-df-container\">\n",
              "      <div>\n",
              "<style scoped>\n",
              "    .dataframe tbody tr th:only-of-type {\n",
              "        vertical-align: middle;\n",
              "    }\n",
              "\n",
              "    .dataframe tbody tr th {\n",
              "        vertical-align: top;\n",
              "    }\n",
              "\n",
              "    .dataframe thead th {\n",
              "        text-align: right;\n",
              "    }\n",
              "</style>\n",
              "<table border=\"1\" class=\"dataframe\">\n",
              "  <thead>\n",
              "    <tr style=\"text-align: right;\">\n",
              "      <th></th>\n",
              "      <th>BMXBMI</th>\n",
              "    </tr>\n",
              "  </thead>\n",
              "  <tbody>\n",
              "    <tr>\n",
              "      <th>3</th>\n",
              "      <td>42.4</td>\n",
              "    </tr>\n",
              "    <tr>\n",
              "      <th>4</th>\n",
              "      <td>20.3</td>\n",
              "    </tr>\n",
              "    <tr>\n",
              "      <th>5</th>\n",
              "      <td>28.6</td>\n",
              "    </tr>\n",
              "    <tr>\n",
              "      <th>7</th>\n",
              "      <td>28.2</td>\n",
              "    </tr>\n",
              "    <tr>\n",
              "      <th>12</th>\n",
              "      <td>26.6</td>\n",
              "    </tr>\n",
              "    <tr>\n",
              "      <th>13</th>\n",
              "      <td>43.7</td>\n",
              "    </tr>\n",
              "    <tr>\n",
              "      <th>15</th>\n",
              "      <td>35.4</td>\n",
              "    </tr>\n",
              "    <tr>\n",
              "      <th>16</th>\n",
              "      <td>32.8</td>\n",
              "    </tr>\n",
              "    <tr>\n",
              "      <th>17</th>\n",
              "      <td>25.3</td>\n",
              "    </tr>\n",
              "    <tr>\n",
              "      <th>18</th>\n",
              "      <td>38.0</td>\n",
              "    </tr>\n",
              "  </tbody>\n",
              "</table>\n",
              "</div>\n",
              "      <button class=\"colab-df-convert\" onclick=\"convertToInteractive('df-e6801a37-4508-4737-9494-df45ba96288e')\"\n",
              "              title=\"Convert this dataframe to an interactive table.\"\n",
              "              style=\"display:none;\">\n",
              "        \n",
              "  <svg xmlns=\"http://www.w3.org/2000/svg\" height=\"24px\"viewBox=\"0 0 24 24\"\n",
              "       width=\"24px\">\n",
              "    <path d=\"M0 0h24v24H0V0z\" fill=\"none\"/>\n",
              "    <path d=\"M18.56 5.44l.94 2.06.94-2.06 2.06-.94-2.06-.94-.94-2.06-.94 2.06-2.06.94zm-11 1L8.5 8.5l.94-2.06 2.06-.94-2.06-.94L8.5 2.5l-.94 2.06-2.06.94zm10 10l.94 2.06.94-2.06 2.06-.94-2.06-.94-.94-2.06-.94 2.06-2.06.94z\"/><path d=\"M17.41 7.96l-1.37-1.37c-.4-.4-.92-.59-1.43-.59-.52 0-1.04.2-1.43.59L10.3 9.45l-7.72 7.72c-.78.78-.78 2.05 0 2.83L4 21.41c.39.39.9.59 1.41.59.51 0 1.02-.2 1.41-.59l7.78-7.78 2.81-2.81c.8-.78.8-2.07 0-2.86zM5.41 20L4 18.59l7.72-7.72 1.47 1.35L5.41 20z\"/>\n",
              "  </svg>\n",
              "      </button>\n",
              "      \n",
              "  <style>\n",
              "    .colab-df-container {\n",
              "      display:flex;\n",
              "      flex-wrap:wrap;\n",
              "      gap: 12px;\n",
              "    }\n",
              "\n",
              "    .colab-df-convert {\n",
              "      background-color: #E8F0FE;\n",
              "      border: none;\n",
              "      border-radius: 50%;\n",
              "      cursor: pointer;\n",
              "      display: none;\n",
              "      fill: #1967D2;\n",
              "      height: 32px;\n",
              "      padding: 0 0 0 0;\n",
              "      width: 32px;\n",
              "    }\n",
              "\n",
              "    .colab-df-convert:hover {\n",
              "      background-color: #E2EBFA;\n",
              "      box-shadow: 0px 1px 2px rgba(60, 64, 67, 0.3), 0px 1px 3px 1px rgba(60, 64, 67, 0.15);\n",
              "      fill: #174EA6;\n",
              "    }\n",
              "\n",
              "    [theme=dark] .colab-df-convert {\n",
              "      background-color: #3B4455;\n",
              "      fill: #D2E3FC;\n",
              "    }\n",
              "\n",
              "    [theme=dark] .colab-df-convert:hover {\n",
              "      background-color: #434B5C;\n",
              "      box-shadow: 0px 1px 3px 1px rgba(0, 0, 0, 0.15);\n",
              "      filter: drop-shadow(0px 1px 2px rgba(0, 0, 0, 0.3));\n",
              "      fill: #FFFFFF;\n",
              "    }\n",
              "  </style>\n",
              "\n",
              "      <script>\n",
              "        const buttonEl =\n",
              "          document.querySelector('#df-e6801a37-4508-4737-9494-df45ba96288e button.colab-df-convert');\n",
              "        buttonEl.style.display =\n",
              "          google.colab.kernel.accessAllowed ? 'block' : 'none';\n",
              "\n",
              "        async function convertToInteractive(key) {\n",
              "          const element = document.querySelector('#df-e6801a37-4508-4737-9494-df45ba96288e');\n",
              "          const dataTable =\n",
              "            await google.colab.kernel.invokeFunction('convertToInteractive',\n",
              "                                                     [key], {});\n",
              "          if (!dataTable) return;\n",
              "\n",
              "          const docLinkHtml = 'Like what you see? Visit the ' +\n",
              "            '<a target=\"_blank\" href=https://colab.research.google.com/notebooks/data_table.ipynb>data table notebook</a>'\n",
              "            + ' to learn more about interactive tables.';\n",
              "          element.innerHTML = '';\n",
              "          dataTable['output_type'] = 'display_data';\n",
              "          await google.colab.output.renderOutput(dataTable, element);\n",
              "          const docLink = document.createElement('div');\n",
              "          docLink.innerHTML = docLinkHtml;\n",
              "          element.appendChild(docLink);\n",
              "        }\n",
              "      </script>\n",
              "    </div>\n",
              "  </div>\n",
              "  "
            ],
            "text/plain": [
              "    BMXBMI\n",
              "3     42.4\n",
              "4     20.3\n",
              "5     28.6\n",
              "7     28.2\n",
              "12    26.6\n",
              "13    43.7\n",
              "15    35.4\n",
              "16    32.8\n",
              "17    25.3\n",
              "18    38.0"
            ]
          },
          "execution_count": 52,
          "metadata": {},
          "output_type": "execute_result"
        }
      ],
      "source": [
        "#  mengambil 10 data pada BMXBMI\n",
        "df_fmle = females[['BMXBMI']].head(10)\n",
        "df_fmle"
      ]
    },
    {
      "cell_type": "code",
      "execution_count": null,
      "metadata": {
        "colab": {
          "background_save": true,
          "base_uri": "https://localhost:8080/",
          "height": 363
        },
        "id": "wlgip7yjC803",
        "outputId": "220f7c6f-130a-4842-f10d-fb089ff1bc5a"
      },
      "outputs": [
        {
          "data": {
            "text/html": [
              "\n",
              "  <div id=\"df-2cc7e4a8-2e5f-4683-a153-61ed75b6f002\">\n",
              "    <div class=\"colab-df-container\">\n",
              "      <div>\n",
              "<style scoped>\n",
              "    .dataframe tbody tr th:only-of-type {\n",
              "        vertical-align: middle;\n",
              "    }\n",
              "\n",
              "    .dataframe tbody tr th {\n",
              "        vertical-align: top;\n",
              "    }\n",
              "\n",
              "    .dataframe thead th {\n",
              "        text-align: right;\n",
              "    }\n",
              "</style>\n",
              "<table border=\"1\" class=\"dataframe\">\n",
              "  <thead>\n",
              "    <tr style=\"text-align: right;\">\n",
              "      <th></th>\n",
              "      <th>BMXBMI</th>\n",
              "    </tr>\n",
              "  </thead>\n",
              "  <tbody>\n",
              "    <tr>\n",
              "      <th>0</th>\n",
              "      <td>27.8</td>\n",
              "    </tr>\n",
              "    <tr>\n",
              "      <th>1</th>\n",
              "      <td>30.8</td>\n",
              "    </tr>\n",
              "    <tr>\n",
              "      <th>2</th>\n",
              "      <td>28.8</td>\n",
              "    </tr>\n",
              "    <tr>\n",
              "      <th>6</th>\n",
              "      <td>28.0</td>\n",
              "    </tr>\n",
              "    <tr>\n",
              "      <th>8</th>\n",
              "      <td>26.2</td>\n",
              "    </tr>\n",
              "    <tr>\n",
              "      <th>9</th>\n",
              "      <td>33.6</td>\n",
              "    </tr>\n",
              "    <tr>\n",
              "      <th>10</th>\n",
              "      <td>27.6</td>\n",
              "    </tr>\n",
              "    <tr>\n",
              "      <th>11</th>\n",
              "      <td>24.1</td>\n",
              "    </tr>\n",
              "    <tr>\n",
              "      <th>14</th>\n",
              "      <td>28.8</td>\n",
              "    </tr>\n",
              "    <tr>\n",
              "      <th>20</th>\n",
              "      <td>25.0</td>\n",
              "    </tr>\n",
              "  </tbody>\n",
              "</table>\n",
              "</div>\n",
              "      <button class=\"colab-df-convert\" onclick=\"convertToInteractive('df-2cc7e4a8-2e5f-4683-a153-61ed75b6f002')\"\n",
              "              title=\"Convert this dataframe to an interactive table.\"\n",
              "              style=\"display:none;\">\n",
              "        \n",
              "  <svg xmlns=\"http://www.w3.org/2000/svg\" height=\"24px\"viewBox=\"0 0 24 24\"\n",
              "       width=\"24px\">\n",
              "    <path d=\"M0 0h24v24H0V0z\" fill=\"none\"/>\n",
              "    <path d=\"M18.56 5.44l.94 2.06.94-2.06 2.06-.94-2.06-.94-.94-2.06-.94 2.06-2.06.94zm-11 1L8.5 8.5l.94-2.06 2.06-.94-2.06-.94L8.5 2.5l-.94 2.06-2.06.94zm10 10l.94 2.06.94-2.06 2.06-.94-2.06-.94-.94-2.06-.94 2.06-2.06.94z\"/><path d=\"M17.41 7.96l-1.37-1.37c-.4-.4-.92-.59-1.43-.59-.52 0-1.04.2-1.43.59L10.3 9.45l-7.72 7.72c-.78.78-.78 2.05 0 2.83L4 21.41c.39.39.9.59 1.41.59.51 0 1.02-.2 1.41-.59l7.78-7.78 2.81-2.81c.8-.78.8-2.07 0-2.86zM5.41 20L4 18.59l7.72-7.72 1.47 1.35L5.41 20z\"/>\n",
              "  </svg>\n",
              "      </button>\n",
              "      \n",
              "  <style>\n",
              "    .colab-df-container {\n",
              "      display:flex;\n",
              "      flex-wrap:wrap;\n",
              "      gap: 12px;\n",
              "    }\n",
              "\n",
              "    .colab-df-convert {\n",
              "      background-color: #E8F0FE;\n",
              "      border: none;\n",
              "      border-radius: 50%;\n",
              "      cursor: pointer;\n",
              "      display: none;\n",
              "      fill: #1967D2;\n",
              "      height: 32px;\n",
              "      padding: 0 0 0 0;\n",
              "      width: 32px;\n",
              "    }\n",
              "\n",
              "    .colab-df-convert:hover {\n",
              "      background-color: #E2EBFA;\n",
              "      box-shadow: 0px 1px 2px rgba(60, 64, 67, 0.3), 0px 1px 3px 1px rgba(60, 64, 67, 0.15);\n",
              "      fill: #174EA6;\n",
              "    }\n",
              "\n",
              "    [theme=dark] .colab-df-convert {\n",
              "      background-color: #3B4455;\n",
              "      fill: #D2E3FC;\n",
              "    }\n",
              "\n",
              "    [theme=dark] .colab-df-convert:hover {\n",
              "      background-color: #434B5C;\n",
              "      box-shadow: 0px 1px 3px 1px rgba(0, 0, 0, 0.15);\n",
              "      filter: drop-shadow(0px 1px 2px rgba(0, 0, 0, 0.3));\n",
              "      fill: #FFFFFF;\n",
              "    }\n",
              "  </style>\n",
              "\n",
              "      <script>\n",
              "        const buttonEl =\n",
              "          document.querySelector('#df-2cc7e4a8-2e5f-4683-a153-61ed75b6f002 button.colab-df-convert');\n",
              "        buttonEl.style.display =\n",
              "          google.colab.kernel.accessAllowed ? 'block' : 'none';\n",
              "\n",
              "        async function convertToInteractive(key) {\n",
              "          const element = document.querySelector('#df-2cc7e4a8-2e5f-4683-a153-61ed75b6f002');\n",
              "          const dataTable =\n",
              "            await google.colab.kernel.invokeFunction('convertToInteractive',\n",
              "                                                     [key], {});\n",
              "          if (!dataTable) return;\n",
              "\n",
              "          const docLinkHtml = 'Like what you see? Visit the ' +\n",
              "            '<a target=\"_blank\" href=https://colab.research.google.com/notebooks/data_table.ipynb>data table notebook</a>'\n",
              "            + ' to learn more about interactive tables.';\n",
              "          element.innerHTML = '';\n",
              "          dataTable['output_type'] = 'display_data';\n",
              "          await google.colab.output.renderOutput(dataTable, element);\n",
              "          const docLink = document.createElement('div');\n",
              "          docLink.innerHTML = docLinkHtml;\n",
              "          element.appendChild(docLink);\n",
              "        }\n",
              "      </script>\n",
              "    </div>\n",
              "  </div>\n",
              "  "
            ],
            "text/plain": [
              "    BMXBMI\n",
              "0     27.8\n",
              "1     30.8\n",
              "2     28.8\n",
              "6     28.0\n",
              "8     26.2\n",
              "9     33.6\n",
              "10    27.6\n",
              "11    24.1\n",
              "14    28.8\n",
              "20    25.0"
            ]
          },
          "execution_count": 53,
          "metadata": {},
          "output_type": "execute_result"
        }
      ],
      "source": [
        "#  mengambil 10 data pada BMXBMI\n",
        "df_male = males[['BMXBMI']].head(10)\n",
        "df_male"
      ]
    },
    {
      "cell_type": "markdown",
      "metadata": {
        "id": "6TyMvM8bW32g"
      },
      "source": [
        "## **NONPARAMETRIC STATISTICAL HYPOTHESIS TEST**\n",
        "* digunakan ketika asumsi tentang distribusi data tidak terpenuhi atau tidak diketahui\n",
        "* digunakan ketika data berskala ordinal atau nominal, di mana sulit untuk menghitung parameter-parameter statistik seperti rata-rata atau varians"
      ]
    },
    {
      "cell_type": "markdown",
      "metadata": {
        "id": "Q33ZVQkUWHQw"
      },
      "source": [
        "### **Mann-Whitney U Test**\n",
        "* untuk membandingkan dua sampel independen dan menentukan apakah ada perbedaan signifikan antara kedua sampel tersebut\n",
        "* digunakan ketika data tidak terdistribusi normal atau memiliki asumsi lain yang tidak terpenuhi\n",
        "* Menguji apakah distribusi dua sampel independen sama atau tidak?\n",
        "\n",
        "Asumsi\n",
        "* Pengamatan pada setiap sampel bersifat independen dan terdistribusi secara identik (iid)\n",
        "* Pengamatan dalam setiap sampel dapat diberi peringkat\n",
        "\n",
        "Penafsiran\n",
        "* H0 : distribusi kedua sampel sama\n",
        "* H1 : Distribusi kedua sampel tidak sama"
      ]
    },
    {
      "cell_type": "code",
      "execution_count": null,
      "metadata": {
        "colab": {
          "background_save": true,
          "base_uri": "https://localhost:8080/"
        },
        "id": "TCzOy6_dChoW",
        "outputId": "6a6164f9-d515-46e5-8b96-3866a28a1bc3"
      },
      "outputs": [
        {
          "name": "stdout",
          "output_type": "stream",
          "text": [
            "stat=34.000, p=0.241\n",
            "Probably the same distribution\n"
          ]
        }
      ],
      "source": [
        "# Example of the Mann-Whitney U Test\n",
        "from scipy.stats import mannwhitneyu\n",
        "data_male_meanw = df_male\n",
        "data_fmle_meanw = df_fmle\n",
        "stat, p = mannwhitneyu(data_male_meanw, data_fmle_meanw)\n",
        "print('stat=%.3f, p=%.3f' % (stat, p))\n",
        "if p > 0.05:\n",
        "    print('Probably the same distribution')\n",
        "else:\n",
        "    print('Probably different distributions')"
      ]
    },
    {
      "cell_type": "markdown",
      "metadata": {
        "id": "36zHsFCaWWWA"
      },
      "source": [
        "#### Analisis : \n",
        "Uji terhadap BMXBMI pada female dan male dengan mengambil 10 data, berdasarkan uji hasil dari Mann-Whitney U Test adalah nilai p=0.241 merupakan lebih besar dari alpha=0.05 maka H0 diterima yakni distribusi kedua sampel tersebut sama, sehingga ditolak H1"
      ]
    },
    {
      "cell_type": "markdown",
      "metadata": {
        "id": "H3yjAnEeU-9M"
      },
      "source": [
        "### **WILCOXON SIGNED-RANK TEST**\n",
        "* untuk menguji perbedaan signifikan antara dua sampel tergantung yang berskala ordinal atau interval\n",
        "* digunakan ketika asumsi tentang distribusi data tidak terpenuhi atau tidak diketahui, dan ketika data tidak berdistribusi normal\n",
        "* membandingkan perbedaan antara pasangan data yang terkait, seperti data yang diambil sebelum dan setelah intervensi, atau data dari subjek yang sama di dua kondisi yang berbeda\n",
        "* eknik ini bekerja dengan membandingkan nilai-nilai absolut dari selisih antara dua pasangan data dan mengevaluasi apakah selisihnya cukup signifikan untuk menolak hipotesis nol\n",
        "* menguji apakah distribusi dua sampel berpasangan sama atau tidak?\n",
        "\n",
        "Asumsi\n",
        "* Pengamatan pada setiap sampel bersifat independen dan terdistribusi secara identik (iid)\n",
        "* Pengamatan dalam setiap sampel dapat diberi peringkat\n",
        "* Pengamatan di setiap sampel dipasangkan\n",
        "\n",
        "Penafsiran\n",
        "* H0 : distribusi kedua sampel sama\n",
        "* H1 : Distribusi kedua sampel tidak sama"
      ]
    },
    {
      "cell_type": "code",
      "execution_count": null,
      "metadata": {
        "colab": {
          "background_save": true,
          "base_uri": "https://localhost:8080/"
        },
        "id": "ptIDrkRECkow",
        "outputId": "4513d158-e835-4155-c8c4-e9b1a591440b"
      },
      "outputs": [
        {
          "name": "stdout",
          "output_type": "stream",
          "text": [
            "stat=13.500, p=0.160\n",
            "Probably the same distribution\n"
          ]
        }
      ],
      "source": [
        "# Example of the Wilcoxon Signed-Rank Test\n",
        "from scipy.stats import wilcoxon\n",
        "data_male_ws = df_male\n",
        "data_fmle_ws = df_fmle\n",
        "stat, p = wilcoxon(data_male_ws, data_fmle_ws)\n",
        "print('stat=%.3f, p=%.3f' % (stat, p))\n",
        "if p > 0.05:\n",
        "    print('Probably the same distribution')\n",
        "else:\n",
        "    print('Probably different distributions')"
      ]
    },
    {
      "cell_type": "markdown",
      "metadata": {
        "id": "Ou4il2lqWJld"
      },
      "source": [
        "#### Analisis : \n",
        "Uji terhadap BMXBMI pada female dan male dengan mengambil 10 data, berdasarkan uji hasil dari Wilcoxon Signed-Rank Test adalah nilai p=0.160 merupakan lebih besar dari alpha=0.05 maka H0 diterima yakni distribusi kedua sampel tersebut sama, sehingga ditolak H1"
      ]
    },
    {
      "cell_type": "markdown",
      "metadata": {
        "id": "C85cnjHLUpy3"
      },
      "source": [
        "### **KRUSKAL-WALLIS H TEST**\n",
        "* untuk menguji apakah ada perbedaan signifikan antara tiga atau lebih kelompok independen yang berskala ordinal atau interval.\n",
        "* digunakan ketika asumsi tentang distribusi data tidak terpenuhi atau tidak diketahui, dan ketika data tidak berdistribusi normal.\n",
        "* Kruskal-Wallis H test membandingkan median dari setiap kelompok dan menghitung nilai H yang menunjukkan seberapa jauh data dari setiap kelompok menyebar. \n",
        "* Menguji apakah distribusi dua atau lebih sampel independen sama atau tidak?\n",
        "\n",
        "Asumsi\n",
        "* Pengamatan pada setiap sampel bersifat independen dan terdistribusi secara identik (iid)\n",
        "* Pengamatan dalam setiap sampel dapat diberi peringkat\n",
        "\n",
        "Penafsiran\n",
        "* H0 : distribusi semua sampel sama\n",
        "* H1: distribusi satu atau lebih sampel tidak sama"
      ]
    },
    {
      "cell_type": "code",
      "execution_count": null,
      "metadata": {
        "colab": {
          "background_save": true,
          "base_uri": "https://localhost:8080/"
        },
        "id": "4h9qL0X1CpGi",
        "outputId": "68342afb-430d-472e-c6de-521476b37be4"
      },
      "outputs": [
        {
          "name": "stdout",
          "output_type": "stream",
          "text": [
            "stat=1.464, p=0.226\n",
            "Probably the same distribution\n"
          ]
        }
      ],
      "source": [
        "# Example of the Kruskal-Wallis H Test\n",
        "from scipy.stats import kruskal\n",
        "data_male_kw = df_male\n",
        "data_fmle_kw = df_fmle\n",
        "stat, p = kruskal(data_male_kw, data_fmle_kw)\n",
        "print('stat=%.3f, p=%.3f' % (stat, p))\n",
        "if p > 0.05:\n",
        "    print('Probably the same distribution')\n",
        "else:\n",
        "    print('Probably different distributions')"
      ]
    },
    {
      "cell_type": "markdown",
      "metadata": {
        "id": "K9qltKd1UxRx"
      },
      "source": [
        "#### Analisis : \n",
        "Uji terhadap BMXBMI pada female dan male dengan mengambil 10 data, berdasarkan uji hasil dari Kruskal-Wallis H Test adalah nilai p=0.226 merupakan lebih besar dari alpha=0.05 maka H0 diterima yakni distribusi kedua sampel tersebut sama, sehingga ditolak H1"
      ]
    },
    {
      "cell_type": "markdown",
      "metadata": {
        "id": "8cD5vfcwUY3i"
      },
      "source": [
        "### **FRIEDMAN TEST**\n",
        "* untuk menguji perbedaan signifikan antara tiga atau lebih kelompok terkait yang berskala ordinal atau interval\n",
        "* digunakan ketika asumsi tentang distribusi data tidak terpenuhi atau tidak diketahui, dan ketika data tidak berdistribusi normal\n",
        "* teknik ini membandingkan peringkat data untuk setiap kelompok dan menghitung nilai chi-square yang menunjukkan seberapa jauh data dari setiap kelompok menyebar\n",
        "* Menguji apakah distribusi dua atau lebih sampel berpasangan sama atau tidak\n",
        "\n",
        "Asumsi\n",
        "* Pengamatan pada setiap sampel bersifat independen dan terdistribusi secara identik (iid)\n",
        "* Pengamatan dalam setiap sampel dapat diberi peringkat.\n",
        "* Pengamatan di setiap sampel dipasangkan\n",
        "\n",
        "Penafsiran\n",
        "* H0 : distribusi semua sampel sama\n",
        "* H1: distribusi satu atau lebih sampel tidak sama"
      ]
    },
    {
      "cell_type": "code",
      "execution_count": null,
      "metadata": {
        "colab": {
          "background_save": true,
          "base_uri": "https://localhost:8080/",
          "height": 235
        },
        "id": "MesDjwUWCueZ",
        "outputId": "983f749c-46f3-4915-9974-99eb7939a1ea"
      },
      "outputs": [
        {
          "ename": "NameError",
          "evalue": "ignored",
          "output_type": "error",
          "traceback": [
            "\u001b[0;31m---------------------------------------------------------------------------\u001b[0m",
            "\u001b[0;31mNameError\u001b[0m                                 Traceback (most recent call last)",
            "\u001b[0;32m<ipython-input-57-3286aa8026eb>\u001b[0m in \u001b[0;36m<cell line: 3>\u001b[0;34m()\u001b[0m\n\u001b[1;32m      1\u001b[0m \u001b[0;31m# Example of the Friedman Test\u001b[0m\u001b[0;34m\u001b[0m\u001b[0;34m\u001b[0m\u001b[0m\n\u001b[1;32m      2\u001b[0m \u001b[0;32mfrom\u001b[0m \u001b[0mscipy\u001b[0m\u001b[0;34m.\u001b[0m\u001b[0mstats\u001b[0m \u001b[0;32mimport\u001b[0m \u001b[0mfriedmanchisquare\u001b[0m\u001b[0;34m\u001b[0m\u001b[0;34m\u001b[0m\u001b[0m\n\u001b[0;32m----> 3\u001b[0;31m \u001b[0mfem_leg_fm\u001b[0m \u001b[0;34m=\u001b[0m \u001b[0mfem_leg\u001b[0m\u001b[0;34m\u001b[0m\u001b[0;34m\u001b[0m\u001b[0m\n\u001b[0m\u001b[1;32m      4\u001b[0m \u001b[0mfem_arml_fm\u001b[0m \u001b[0;34m=\u001b[0m \u001b[0mfem_arml\u001b[0m\u001b[0;34m\u001b[0m\u001b[0;34m\u001b[0m\u001b[0m\n\u001b[1;32m      5\u001b[0m \u001b[0mfem_armc_fm\u001b[0m \u001b[0;34m=\u001b[0m \u001b[0mfem_armc\u001b[0m\u001b[0;34m\u001b[0m\u001b[0;34m\u001b[0m\u001b[0m\n",
            "\u001b[0;31mNameError\u001b[0m: name 'fem_leg' is not defined"
          ]
        }
      ],
      "source": [
        "# Example of the Friedman Test\n",
        "from scipy.stats import friedmanchisquare\n",
        "fem_leg_fm = fem_leg\n",
        "fem_arml_fm = fem_arml\n",
        "fem_armc_fm = fem_armc\n",
        "stat, p = friedmanchisquare(fem_leg_fm, fem_arml_fm, fem_armc_fm)\n",
        "print('stat=%.3f, p=%.3f' % (stat, p))\n",
        "if p > 0.05:\n",
        "    print('Probably the same distribution')\n",
        "else:\n",
        "    print('Probably different distributions')"
      ]
    },
    {
      "cell_type": "markdown",
      "metadata": {
        "id": "P8Ses65FUiGF"
      },
      "source": [
        "#### Analisis :  \n",
        "Uji terhadap data female pada BMXLEG, BMXARML, dan BMXARMC dengan mengambil 10 data, berdasarkan uji hasil dari Friedman Test adalah nilai p=0.000 merupakan lebih kecil dari alpha=0.05 maka H1 diterima yakni distribusi satu atau lebih sampel adalah tidak sama, sehingga H0 ditolak"
      ]
    }
  ],
  "metadata": {
    "colab": {
      "provenance": []
    },
    "kernelspec": {
      "display_name": "Python 3",
      "name": "python3"
    },
    "language_info": {
      "name": "python"
    }
  },
  "nbformat": 4,
  "nbformat_minor": 0
}